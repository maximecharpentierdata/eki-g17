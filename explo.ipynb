{
 "cells": [
  {
   "cell_type": "code",
   "execution_count": 72,
   "metadata": {},
   "outputs": [
    {
     "data": {
      "application/javascript": "\n            setTimeout(function() {\n                var nbb_cell_id = 72;\n                var nbb_unformatted_code = \"import pandas as pd\\nimport matplotlib.pyplot as plt\\nimport os\\nimport geopandas as gpd\\nimport contextily as cx\";\n                var nbb_formatted_code = \"import pandas as pd\\nimport matplotlib.pyplot as plt\\nimport os\\nimport geopandas as gpd\\nimport contextily as cx\";\n                var nbb_cells = Jupyter.notebook.get_cells();\n                for (var i = 0; i < nbb_cells.length; ++i) {\n                    if (nbb_cells[i].input_prompt_number == nbb_cell_id) {\n                        if (nbb_cells[i].get_text() == nbb_unformatted_code) {\n                             nbb_cells[i].set_text(nbb_formatted_code);\n                        }\n                        break;\n                    }\n                }\n            }, 500);\n            ",
      "text/plain": [
       "<IPython.core.display.Javascript object>"
      ]
     },
     "metadata": {},
     "output_type": "display_data"
    }
   ],
   "source": [
    "import pandas as pd\n",
    "import matplotlib.pyplot as plt\n",
    "import os\n",
    "import geopandas as gpd\n",
    "import contextily as cx"
   ]
  },
  {
   "cell_type": "code",
   "execution_count": 73,
   "metadata": {},
   "outputs": [
    {
     "name": "stdout",
     "output_type": "stream",
     "text": [
      "The nb_black extension is already loaded. To reload it, use:\n",
      "  %reload_ext nb_black\n"
     ]
    },
    {
     "data": {
      "application/javascript": "\n            setTimeout(function() {\n                var nbb_cell_id = 73;\n                var nbb_unformatted_code = \"%load_ext nb_black\\n # For automatic code formatting\";\n                var nbb_formatted_code = \"%load_ext nb_black\\n# For automatic code formatting\";\n                var nbb_cells = Jupyter.notebook.get_cells();\n                for (var i = 0; i < nbb_cells.length; ++i) {\n                    if (nbb_cells[i].input_prompt_number == nbb_cell_id) {\n                        if (nbb_cells[i].get_text() == nbb_unformatted_code) {\n                             nbb_cells[i].set_text(nbb_formatted_code);\n                        }\n                        break;\n                    }\n                }\n            }, 500);\n            ",
      "text/plain": [
       "<IPython.core.display.Javascript object>"
      ]
     },
     "metadata": {},
     "output_type": "display_data"
    }
   ],
   "source": [
    "%load_ext nb_black\n",
    " # For automatic code formatting"
   ]
  },
  {
   "cell_type": "markdown",
   "metadata": {},
   "source": [
    "# Data importation"
   ]
  },
  {
   "cell_type": "code",
   "execution_count": 74,
   "metadata": {},
   "outputs": [
    {
     "data": {
      "application/javascript": "\n            setTimeout(function() {\n                var nbb_cell_id = 74;\n                var nbb_unformatted_code = \"for csv_file in os.listdir(\\\"./data\\\"):\\n    if csv_file[-3:] == \\\"csv\\\":\\n        globals()[csv_file[:-4]] = pd.read_csv(\\\"./data/\\\" + csv_file)\";\n                var nbb_formatted_code = \"for csv_file in os.listdir(\\\"./data\\\"):\\n    if csv_file[-3:] == \\\"csv\\\":\\n        globals()[csv_file[:-4]] = pd.read_csv(\\\"./data/\\\" + csv_file)\";\n                var nbb_cells = Jupyter.notebook.get_cells();\n                for (var i = 0; i < nbb_cells.length; ++i) {\n                    if (nbb_cells[i].input_prompt_number == nbb_cell_id) {\n                        if (nbb_cells[i].get_text() == nbb_unformatted_code) {\n                             nbb_cells[i].set_text(nbb_formatted_code);\n                        }\n                        break;\n                    }\n                }\n            }, 500);\n            ",
      "text/plain": [
       "<IPython.core.display.Javascript object>"
      ]
     },
     "metadata": {},
     "output_type": "display_data"
    }
   ],
   "source": [
    "for csv_file in os.listdir(\"./data\"):\n",
    "    if csv_file[-3:] == \"csv\":\n",
    "        globals()[csv_file[:-4]] = pd.read_csv(\"./data/\" + csv_file)"
   ]
  },
  {
   "cell_type": "markdown",
   "metadata": {},
   "source": [
    "# Data cleaning"
   ]
  },
  {
   "cell_type": "markdown",
   "metadata": {},
   "source": [
    "## cities"
   ]
  },
  {
   "cell_type": "code",
   "execution_count": 75,
   "metadata": {},
   "outputs": [
    {
     "name": "stdout",
     "output_type": "stream",
     "text": [
      "<class 'pandas.core.frame.DataFrame'>\n",
      "RangeIndex: 100 entries, 0 to 99\n",
      "Data columns (total 10 columns):\n",
      " #   Column             Non-Null Count  Dtype  \n",
      "---  ------             --------------  -----  \n",
      " 0   city               100 non-null    object \n",
      " 1   lat                100 non-null    float64\n",
      " 2   lng                100 non-null    float64\n",
      " 3   country            100 non-null    object \n",
      " 4   iso2               100 non-null    object \n",
      " 5   admin_name         100 non-null    object \n",
      " 6   capital            67 non-null     object \n",
      " 7   population         100 non-null    float64\n",
      " 8   population_proper  100 non-null    float64\n",
      " 9   is_warehouse       100 non-null    bool   \n",
      "dtypes: bool(1), float64(4), object(5)\n",
      "memory usage: 7.3+ KB\n"
     ]
    },
    {
     "data": {
      "application/javascript": "\n            setTimeout(function() {\n                var nbb_cell_id = 75;\n                var nbb_unformatted_code = \"cities.info()\";\n                var nbb_formatted_code = \"cities.info()\";\n                var nbb_cells = Jupyter.notebook.get_cells();\n                for (var i = 0; i < nbb_cells.length; ++i) {\n                    if (nbb_cells[i].input_prompt_number == nbb_cell_id) {\n                        if (nbb_cells[i].get_text() == nbb_unformatted_code) {\n                             nbb_cells[i].set_text(nbb_formatted_code);\n                        }\n                        break;\n                    }\n                }\n            }, 500);\n            ",
      "text/plain": [
       "<IPython.core.display.Javascript object>"
      ]
     },
     "metadata": {},
     "output_type": "display_data"
    }
   ],
   "source": [
    "cities.info()"
   ]
  },
  {
   "cell_type": "code",
   "execution_count": 76,
   "metadata": {},
   "outputs": [
    {
     "data": {
      "image/png": "[encoded data removed]",
      "text/plain": [
       "<Figure size 720x720 with 1 Axes>"
      ]
     },
     "metadata": {
      "needs_background": "light"
     },
     "output_type": "display_data"
    },
    {
     "data": {
      "application/javascript": "\n            setTimeout(function() {\n                var nbb_cell_id = 76;\n                var nbb_unformatted_code = \"fig, ax = plt.subplots(figsize=(10, 10))\\ngdf = gpd.GeoDataFrame(cities, geometry=gpd.points_from_xy(cities.lng, cities.lat), crs=4326)\\ngdf.to_crs(epsg=3857).plot(ax=ax, column=\\\"is_warehouse\\\")\\ncx.add_basemap(ax, source=cx.providers.CartoDB.Voyager, zoom=6)\\nax.axis('off')\\nax.set_title(\\\"Localisation des villes\\\")\\nplt.show()\";\n                var nbb_formatted_code = \"fig, ax = plt.subplots(figsize=(10, 10))\\ngdf = gpd.GeoDataFrame(\\n    cities, geometry=gpd.points_from_xy(cities.lng, cities.lat), crs=4326\\n)\\ngdf.to_crs(epsg=3857).plot(ax=ax, column=\\\"is_warehouse\\\")\\ncx.add_basemap(ax, source=cx.providers.CartoDB.Voyager, zoom=6)\\nax.axis(\\\"off\\\")\\nax.set_title(\\\"Localisation des villes\\\")\\nplt.show()\";\n                var nbb_cells = Jupyter.notebook.get_cells();\n                for (var i = 0; i < nbb_cells.length; ++i) {\n                    if (nbb_cells[i].input_prompt_number == nbb_cell_id) {\n                        if (nbb_cells[i].get_text() == nbb_unformatted_code) {\n                             nbb_cells[i].set_text(nbb_formatted_code);\n                        }\n                        break;\n                    }\n                }\n            }, 500);\n            ",
      "text/plain": [
       "<IPython.core.display.Javascript object>"
      ]
     },
     "metadata": {},
     "output_type": "display_data"
    }
   ],
   "source": [
    "fig, ax = plt.subplots(figsize=(10, 10))\n",
    "gdf = gpd.GeoDataFrame(cities, geometry=gpd.points_from_xy(cities.lng, cities.lat), crs=4326)\n",
    "gdf.to_crs(epsg=3857).plot(ax=ax, column=\"is_warehouse\")\n",
    "cx.add_basemap(ax, source=cx.providers.CartoDB.Voyager, zoom=6)\n",
    "ax.axis('off')\n",
    "ax.set_title(\"Localisation des villes\")\n",
    "plt.show()"
   ]
  },
  {
   "cell_type": "code",
   "execution_count": 77,
   "metadata": {},
   "outputs": [
    {
     "data": {
      "text/plain": [
       "Text(0, 0.5, '')"
      ]
     },
     "execution_count": 77,
     "metadata": {},
     "output_type": "execute_result"
    },
    {
     "data": {
      "image/png": "[encoded data removed]",
      "text/plain": [
       "<Figure size 432x432 with 1 Axes>"
      ]
     },
     "metadata": {},
     "output_type": "display_data"
    },
    {
     "data": {
      "application/javascript": "\n            setTimeout(function() {\n                var nbb_cell_id = 77;\n                var nbb_unformatted_code = \"fig, ax = plt.subplots(figsize=(6, 6))\\ncities.admin_name.value_counts().plot(kind=\\\"pie\\\", ax=ax)\\nax.set_ylabel(\\\"\\\")\";\n                var nbb_formatted_code = \"fig, ax = plt.subplots(figsize=(6, 6))\\ncities.admin_name.value_counts().plot(kind=\\\"pie\\\", ax=ax)\\nax.set_ylabel(\\\"\\\")\";\n                var nbb_cells = Jupyter.notebook.get_cells();\n                for (var i = 0; i < nbb_cells.length; ++i) {\n                    if (nbb_cells[i].input_prompt_number == nbb_cell_id) {\n                        if (nbb_cells[i].get_text() == nbb_unformatted_code) {\n                             nbb_cells[i].set_text(nbb_formatted_code);\n                        }\n                        break;\n                    }\n                }\n            }, 500);\n            ",
      "text/plain": [
       "<IPython.core.display.Javascript object>"
      ]
     },
     "metadata": {},
     "output_type": "display_data"
    }
   ],
   "source": [
    "fig, ax = plt.subplots(figsize=(6, 6))\n",
    "cities.admin_name.value_counts().plot(kind=\"pie\", ax=ax)\n",
    "ax.set_ylabel(\"\")"
   ]
  },
  {
   "cell_type": "code",
   "execution_count": 78,
   "metadata": {},
   "outputs": [
    {
     "data": {
      "text/plain": [
       "0     primary\n",
       "1       minor\n",
       "2       admin\n",
       "3       admin\n",
       "4       admin\n",
       "       ...   \n",
       "95      minor\n",
       "96        NaN\n",
       "97        NaN\n",
       "98        NaN\n",
       "99      minor\n",
       "Name: capital, Length: 100, dtype: object"
      ]
     },
     "execution_count": 78,
     "metadata": {},
     "output_type": "execute_result"
    },
    {
     "data": {
      "application/javascript": "\n            setTimeout(function() {\n                var nbb_cell_id = 78;\n                var nbb_unformatted_code = \"cities.capital # ??\";\n                var nbb_formatted_code = \"cities.capital  # ??\";\n                var nbb_cells = Jupyter.notebook.get_cells();\n                for (var i = 0; i < nbb_cells.length; ++i) {\n                    if (nbb_cells[i].input_prompt_number == nbb_cell_id) {\n                        if (nbb_cells[i].get_text() == nbb_unformatted_code) {\n                             nbb_cells[i].set_text(nbb_formatted_code);\n                        }\n                        break;\n                    }\n                }\n            }, 500);\n            ",
      "text/plain": [
       "<IPython.core.display.Javascript object>"
      ]
     },
     "metadata": {},
     "output_type": "display_data"
    }
   ],
   "source": [
    "cities.capital # ??"
   ]
  },
  {
   "cell_type": "code",
   "execution_count": 79,
   "metadata": {},
   "outputs": [
    {
     "data": {
      "text/html": [
       "<div>\n",
       "<style scoped>\n",
       "    .dataframe tbody tr th:only-of-type {\n",
       "        vertical-align: middle;\n",
       "    }\n",
       "\n",
       "    .dataframe tbody tr th {\n",
       "        vertical-align: top;\n",
       "    }\n",
       "\n",
       "    .dataframe thead th {\n",
       "        text-align: right;\n",
       "    }\n",
       "</style>\n",
       "<table border=\"1\" class=\"dataframe\">\n",
       "  <thead>\n",
       "    <tr style=\"text-align: right;\">\n",
       "      <th></th>\n",
       "      <th>population_proper</th>\n",
       "      <th>population</th>\n",
       "    </tr>\n",
       "  </thead>\n",
       "  <tbody>\n",
       "    <tr>\n",
       "      <th>0</th>\n",
       "      <td>2148271.0</td>\n",
       "      <td>11020000.0</td>\n",
       "    </tr>\n",
       "    <tr>\n",
       "      <th>1</th>\n",
       "      <td>341032.0</td>\n",
       "      <td>1006402.0</td>\n",
       "    </tr>\n",
       "    <tr>\n",
       "      <th>2</th>\n",
       "      <td>486828.0</td>\n",
       "      <td>968638.0</td>\n",
       "    </tr>\n",
       "    <tr>\n",
       "      <th>3</th>\n",
       "      <td>868277.0</td>\n",
       "      <td>870018.0</td>\n",
       "    </tr>\n",
       "    <tr>\n",
       "      <th>4</th>\n",
       "      <td>217728.0</td>\n",
       "      <td>727357.0</td>\n",
       "    </tr>\n",
       "    <tr>\n",
       "      <th>...</th>\n",
       "      <td>...</td>\n",
       "      <td>...</td>\n",
       "    </tr>\n",
       "    <tr>\n",
       "      <th>95</th>\n",
       "      <td>56020.0</td>\n",
       "      <td>56020.0</td>\n",
       "    </tr>\n",
       "    <tr>\n",
       "      <th>96</th>\n",
       "      <td>55655.0</td>\n",
       "      <td>55655.0</td>\n",
       "    </tr>\n",
       "    <tr>\n",
       "      <th>97</th>\n",
       "      <td>55069.0</td>\n",
       "      <td>55588.0</td>\n",
       "    </tr>\n",
       "    <tr>\n",
       "      <th>98</th>\n",
       "      <td>54771.0</td>\n",
       "      <td>55084.0</td>\n",
       "    </tr>\n",
       "    <tr>\n",
       "      <th>99</th>\n",
       "      <td>54991.0</td>\n",
       "      <td>54991.0</td>\n",
       "    </tr>\n",
       "  </tbody>\n",
       "</table>\n",
       "<p>100 rows × 2 columns</p>\n",
       "</div>"
      ],
      "text/plain": [
       "    population_proper  population\n",
       "0           2148271.0  11020000.0\n",
       "1            341032.0   1006402.0\n",
       "2            486828.0    968638.0\n",
       "3            868277.0    870018.0\n",
       "4            217728.0    727357.0\n",
       "..                ...         ...\n",
       "95            56020.0     56020.0\n",
       "96            55655.0     55655.0\n",
       "97            55069.0     55588.0\n",
       "98            54771.0     55084.0\n",
       "99            54991.0     54991.0\n",
       "\n",
       "[100 rows x 2 columns]"
      ]
     },
     "execution_count": 79,
     "metadata": {},
     "output_type": "execute_result"
    },
    {
     "data": {
      "application/javascript": "\n            setTimeout(function() {\n                var nbb_cell_id = 79;\n                var nbb_unformatted_code = \"cities[[\\\"population_proper\\\", \\\"population\\\"]] # ??\";\n                var nbb_formatted_code = \"cities[[\\\"population_proper\\\", \\\"population\\\"]]  # ??\";\n                var nbb_cells = Jupyter.notebook.get_cells();\n                for (var i = 0; i < nbb_cells.length; ++i) {\n                    if (nbb_cells[i].input_prompt_number == nbb_cell_id) {\n                        if (nbb_cells[i].get_text() == nbb_unformatted_code) {\n                             nbb_cells[i].set_text(nbb_formatted_code);\n                        }\n                        break;\n                    }\n                }\n            }, 500);\n            ",
      "text/plain": [
       "<IPython.core.display.Javascript object>"
      ]
     },
     "metadata": {},
     "output_type": "display_data"
    }
   ],
   "source": [
    "cities[[\"population_proper\", \"population\"]] # ??"
   ]
  },
  {
   "cell_type": "code",
   "execution_count": 80,
   "metadata": {},
   "outputs": [
    {
     "data": {
      "text/plain": [
       "<AxesSubplot:>"
      ]
     },
     "execution_count": 80,
     "metadata": {},
     "output_type": "execute_result"
    },
    {
     "data": {
      "image/png": "[encoded data removed]",
      "text/plain": [
       "<Figure size 432x288 with 1 Axes>"
      ]
     },
     "metadata": {
      "needs_background": "light"
     },
     "output_type": "display_data"
    },
    {
     "data": {
      "application/javascript": "\n            setTimeout(function() {\n                var nbb_cell_id = 80;\n                var nbb_unformatted_code = \"cities.population_proper.hist()\";\n                var nbb_formatted_code = \"cities.population_proper.hist()\";\n                var nbb_cells = Jupyter.notebook.get_cells();\n                for (var i = 0; i < nbb_cells.length; ++i) {\n                    if (nbb_cells[i].input_prompt_number == nbb_cell_id) {\n                        if (nbb_cells[i].get_text() == nbb_unformatted_code) {\n                             nbb_cells[i].set_text(nbb_formatted_code);\n                        }\n                        break;\n                    }\n                }\n            }, 500);\n            ",
      "text/plain": [
       "<IPython.core.display.Javascript object>"
      ]
     },
     "metadata": {},
     "output_type": "display_data"
    }
   ],
   "source": [
    "cities.population_proper.hist()"
   ]
  },
  {
   "cell_type": "code",
   "execution_count": 81,
   "metadata": {},
   "outputs": [
    {
     "data": {
      "text/plain": [
       "<AxesSubplot:>"
      ]
     },
     "execution_count": 81,
     "metadata": {},
     "output_type": "execute_result"
    },
    {
     "data": {
      "image/png": "[encoded data removed]",
      "text/plain": [
       "<Figure size 432x288 with 1 Axes>"
      ]
     },
     "metadata": {
      "needs_background": "light"
     },
     "output_type": "display_data"
    },
    {
     "data": {
      "application/javascript": "\n            setTimeout(function() {\n                var nbb_cell_id = 81;\n                var nbb_unformatted_code = \"cities.population.hist()\";\n                var nbb_formatted_code = \"cities.population.hist()\";\n                var nbb_cells = Jupyter.notebook.get_cells();\n                for (var i = 0; i < nbb_cells.length; ++i) {\n                    if (nbb_cells[i].input_prompt_number == nbb_cell_id) {\n                        if (nbb_cells[i].get_text() == nbb_unformatted_code) {\n                             nbb_cells[i].set_text(nbb_formatted_code);\n                        }\n                        break;\n                    }\n                }\n            }, 500);\n            ",
      "text/plain": [
       "<IPython.core.display.Javascript object>"
      ]
     },
     "metadata": {},
     "output_type": "display_data"
    }
   ],
   "source": [
    "cities.population.hist()"
   ]
  },
  {
   "cell_type": "code",
   "execution_count": 82,
   "metadata": {},
   "outputs": [
    {
     "data": {
      "application/javascript": "\n            setTimeout(function() {\n                var nbb_cell_id = 82;\n                var nbb_unformatted_code = \"cities.to_csv(\\\"data_clean/cities.csv\\\")\";\n                var nbb_formatted_code = \"cities.to_csv(\\\"data_clean/cities.csv\\\")\";\n                var nbb_cells = Jupyter.notebook.get_cells();\n                for (var i = 0; i < nbb_cells.length; ++i) {\n                    if (nbb_cells[i].input_prompt_number == nbb_cell_id) {\n                        if (nbb_cells[i].get_text() == nbb_unformatted_code) {\n                             nbb_cells[i].set_text(nbb_formatted_code);\n                        }\n                        break;\n                    }\n                }\n            }, 500);\n            ",
      "text/plain": [
       "<IPython.core.display.Javascript object>"
      ]
     },
     "metadata": {},
     "output_type": "display_data"
    }
   ],
   "source": [
    "cities.to_csv(\"data_clean/cities.csv\")"
   ]
  },
  {
   "cell_type": "markdown",
   "metadata": {},
   "source": [
    "## factors"
   ]
  },
  {
   "cell_type": "code",
   "execution_count": 83,
   "metadata": {},
   "outputs": [
    {
     "ename": "NameError",
     "evalue": "name 'data' is not defined",
     "output_type": "error",
     "traceback": [
      "\u001b[0;31m---------------------------------------------------------------------------\u001b[0m",
      "\u001b[0;31mNameError\u001b[0m                                 Traceback (most recent call last)",
      "\u001b[0;32m/var/folders/lr/pr9gn1c11knd9lzmwj4tmst00000gn/T/ipykernel_62592/2835101213.py\u001b[0m in \u001b[0;36m<module>\u001b[0;34m\u001b[0m\n\u001b[0;32m----> 1\u001b[0;31m \u001b[0mfactors\u001b[0m \u001b[0;34m=\u001b[0m \u001b[0mdata\u001b[0m\u001b[0;34m[\u001b[0m\u001b[0;34m\"factors\"\u001b[0m\u001b[0;34m]\u001b[0m\u001b[0;34m\u001b[0m\u001b[0;34m\u001b[0m\u001b[0m\n\u001b[0m\u001b[1;32m      2\u001b[0m \u001b[0mfactors\u001b[0m\u001b[0;34m\u001b[0m\u001b[0;34m\u001b[0m\u001b[0m\n",
      "\u001b[0;31mNameError\u001b[0m: name 'data' is not defined"
     ]
    },
    {
     "data": {
      "application/javascript": "\n            setTimeout(function() {\n                var nbb_cell_id = 83;\n                var nbb_unformatted_code = \"factors = data[\\\"factors\\\"]\\nfactors\";\n                var nbb_formatted_code = \"factors = data[\\\"factors\\\"]\\nfactors\";\n                var nbb_cells = Jupyter.notebook.get_cells();\n                for (var i = 0; i < nbb_cells.length; ++i) {\n                    if (nbb_cells[i].input_prompt_number == nbb_cell_id) {\n                        if (nbb_cells[i].get_text() == nbb_unformatted_code) {\n                             nbb_cells[i].set_text(nbb_formatted_code);\n                        }\n                        break;\n                    }\n                }\n            }, 500);\n            ",
      "text/plain": [
       "<IPython.core.display.Javascript object>"
      ]
     },
     "metadata": {},
     "output_type": "display_data"
    }
   ],
   "source": [
    "factors = data[\"factors\"]\n",
    "factors"
   ]
  },
  {
   "cell_type": "code",
   "execution_count": null,
   "metadata": {},
   "outputs": [
    {
     "data": {
      "application/javascript": "\n            setTimeout(function() {\n                var nbb_cell_id = 32;\n                var nbb_unformatted_code = \"factors.to_csv(\\\"data_clean/factors.csv\\\")\";\n                var nbb_formatted_code = \"factors.to_csv(\\\"data_clean/factors.csv\\\")\";\n                var nbb_cells = Jupyter.notebook.get_cells();\n                for (var i = 0; i < nbb_cells.length; ++i) {\n                    if (nbb_cells[i].input_prompt_number == nbb_cell_id) {\n                        if (nbb_cells[i].get_text() == nbb_unformatted_code) {\n                             nbb_cells[i].set_text(nbb_formatted_code);\n                        }\n                        break;\n                    }\n                }\n            }, 500);\n            ",
      "text/plain": [
       "<IPython.core.display.Javascript object>"
      ]
     },
     "metadata": {},
     "output_type": "display_data"
    }
   ],
   "source": [
    "factors.to_csv(\"data_clean/factors.csv\")"
   ]
  },
  {
   "cell_type": "markdown",
   "metadata": {},
   "source": [
    "## orders"
   ]
  },
  {
   "cell_type": "code",
   "execution_count": null,
   "metadata": {},
   "outputs": [
    {
     "name": "stdout",
     "output_type": "stream",
     "text": [
      "<class 'pandas.core.frame.DataFrame'>\n",
      "RangeIndex: 37332 entries, 0 to 37331\n",
      "Data columns (total 9 columns):\n",
      " #   Column              Non-Null Count  Dtype  \n",
      "---  ------              --------------  -----  \n",
      " 0   order_id            37332 non-null  object \n",
      " 1   package_id          37332 non-null  object \n",
      " 2   package_volume      37332 non-null  float64\n",
      " 3   delivery_location   37332 non-null  object \n",
      " 4   from_warehouse      37332 non-null  object \n",
      " 5   order_date          37332 non-null  object \n",
      " 6   delivered_date      36131 non-null  object \n",
      " 7   n_units             37332 non-null  float64\n",
      " 8   order_total_volume  37332 non-null  float64\n",
      "dtypes: float64(3), object(6)\n",
      "memory usage: 2.6+ MB\n"
     ]
    },
    {
     "data": {
      "application/javascript": "\n            setTimeout(function() {\n                var nbb_cell_id = 4;\n                var nbb_unformatted_code = \"orders.info()\";\n                var nbb_formatted_code = \"orders.info()\";\n                var nbb_cells = Jupyter.notebook.get_cells();\n                for (var i = 0; i < nbb_cells.length; ++i) {\n                    if (nbb_cells[i].input_prompt_number == nbb_cell_id) {\n                        if (nbb_cells[i].get_text() == nbb_unformatted_code) {\n                             nbb_cells[i].set_text(nbb_formatted_code);\n                        }\n                        break;\n                    }\n                }\n            }, 500);\n            ",
      "text/plain": [
       "<IPython.core.display.Javascript object>"
      ]
     },
     "metadata": {},
     "output_type": "display_data"
    }
   ],
   "source": [
    "orders.info()"
   ]
  },
  {
   "cell_type": "code",
   "execution_count": null,
   "metadata": {},
   "outputs": [
    {
     "data": {
      "text/html": [
       "<div>\n",
       "<style scoped>\n",
       "    .dataframe tbody tr th:only-of-type {\n",
       "        vertical-align: middle;\n",
       "    }\n",
       "\n",
       "    .dataframe tbody tr th {\n",
       "        vertical-align: top;\n",
       "    }\n",
       "\n",
       "    .dataframe thead th {\n",
       "        text-align: right;\n",
       "    }\n",
       "</style>\n",
       "<table border=\"1\" class=\"dataframe\">\n",
       "  <thead>\n",
       "    <tr style=\"text-align: right;\">\n",
       "      <th></th>\n",
       "      <th>order_id</th>\n",
       "      <th>package_id</th>\n",
       "      <th>package_volume</th>\n",
       "      <th>delivery_location</th>\n",
       "      <th>from_warehouse</th>\n",
       "      <th>order_date</th>\n",
       "      <th>delivered_date</th>\n",
       "      <th>n_units</th>\n",
       "      <th>order_total_volume</th>\n",
       "    </tr>\n",
       "  </thead>\n",
       "  <tbody>\n",
       "    <tr>\n",
       "      <th>0</th>\n",
       "      <td>EtPmaD3APj8aRNeSC3Yx7R</td>\n",
       "      <td>Z8722BWG8WfyrU3jeWsWGo</td>\n",
       "      <td>0.2732</td>\n",
       "      <td>Nice</td>\n",
       "      <td>Avignon</td>\n",
       "      <td>2021-01-01</td>\n",
       "      <td>2021-01-04 00:00:00</td>\n",
       "      <td>27.0</td>\n",
       "      <td>7.3764</td>\n",
       "    </tr>\n",
       "    <tr>\n",
       "      <th>1</th>\n",
       "      <td>4X4RBUwTXGBMVWdEj8Gti4</td>\n",
       "      <td>4oxrPXkner2kvXqvLQiCXF</td>\n",
       "      <td>0.2384</td>\n",
       "      <td>Issy-les-Moulineaux</td>\n",
       "      <td>Cergy</td>\n",
       "      <td>2021-01-01</td>\n",
       "      <td>2021-01-03 00:00:00</td>\n",
       "      <td>41.0</td>\n",
       "      <td>9.7744</td>\n",
       "    </tr>\n",
       "    <tr>\n",
       "      <th>2</th>\n",
       "      <td>GDhuTcBnr9xdRhFb2jLYcW</td>\n",
       "      <td>mnEb7xGXa9dFMLPAkrZZoh</td>\n",
       "      <td>1.4152</td>\n",
       "      <td>Toulouse</td>\n",
       "      <td>Montauban</td>\n",
       "      <td>2021-01-01</td>\n",
       "      <td>2021-01-08 00:00:00</td>\n",
       "      <td>35.0</td>\n",
       "      <td>49.5320</td>\n",
       "    </tr>\n",
       "    <tr>\n",
       "      <th>3</th>\n",
       "      <td>3EZDvpzw5DdxXyJ66Py75J</td>\n",
       "      <td>3nwbxBUemtMG75cVPs7q7R</td>\n",
       "      <td>1.3451</td>\n",
       "      <td>Poitiers</td>\n",
       "      <td>Montauban</td>\n",
       "      <td>2021-01-01</td>\n",
       "      <td>2021-01-09 00:00:00</td>\n",
       "      <td>21.0</td>\n",
       "      <td>28.2471</td>\n",
       "    </tr>\n",
       "    <tr>\n",
       "      <th>4</th>\n",
       "      <td>Fpvw9NfnexSxjzLvyPWKbQ</td>\n",
       "      <td>mnEb7xGXa9dFMLPAkrZZoh</td>\n",
       "      <td>1.4152</td>\n",
       "      <td>Épinal</td>\n",
       "      <td>Reims</td>\n",
       "      <td>2021-01-01</td>\n",
       "      <td>2021-01-09 00:00:00</td>\n",
       "      <td>22.0</td>\n",
       "      <td>31.1344</td>\n",
       "    </tr>\n",
       "  </tbody>\n",
       "</table>\n",
       "</div>"
      ],
      "text/plain": [
       "                 order_id              package_id  package_volume  \\\n",
       "0  EtPmaD3APj8aRNeSC3Yx7R  Z8722BWG8WfyrU3jeWsWGo          0.2732   \n",
       "1  4X4RBUwTXGBMVWdEj8Gti4  4oxrPXkner2kvXqvLQiCXF          0.2384   \n",
       "2  GDhuTcBnr9xdRhFb2jLYcW  mnEb7xGXa9dFMLPAkrZZoh          1.4152   \n",
       "3  3EZDvpzw5DdxXyJ66Py75J  3nwbxBUemtMG75cVPs7q7R          1.3451   \n",
       "4  Fpvw9NfnexSxjzLvyPWKbQ  mnEb7xGXa9dFMLPAkrZZoh          1.4152   \n",
       "\n",
       "     delivery_location from_warehouse  order_date       delivered_date  \\\n",
       "0                 Nice        Avignon  2021-01-01  2021-01-04 00:00:00   \n",
       "1  Issy-les-Moulineaux          Cergy  2021-01-01  2021-01-03 00:00:00   \n",
       "2             Toulouse      Montauban  2021-01-01  2021-01-08 00:00:00   \n",
       "3             Poitiers      Montauban  2021-01-01  2021-01-09 00:00:00   \n",
       "4               Épinal          Reims  2021-01-01  2021-01-09 00:00:00   \n",
       "\n",
       "   n_units  order_total_volume  \n",
       "0     27.0              7.3764  \n",
       "1     41.0              9.7744  \n",
       "2     35.0             49.5320  \n",
       "3     21.0             28.2471  \n",
       "4     22.0             31.1344  "
      ]
     },
     "execution_count": 5,
     "metadata": {},
     "output_type": "execute_result"
    },
    {
     "data": {
      "application/javascript": "\n            setTimeout(function() {\n                var nbb_cell_id = 5;\n                var nbb_unformatted_code = \"orders.head()\";\n                var nbb_formatted_code = \"orders.head()\";\n                var nbb_cells = Jupyter.notebook.get_cells();\n                for (var i = 0; i < nbb_cells.length; ++i) {\n                    if (nbb_cells[i].input_prompt_number == nbb_cell_id) {\n                        if (nbb_cells[i].get_text() == nbb_unformatted_code) {\n                             nbb_cells[i].set_text(nbb_formatted_code);\n                        }\n                        break;\n                    }\n                }\n            }, 500);\n            ",
      "text/plain": [
       "<IPython.core.display.Javascript object>"
      ]
     },
     "metadata": {},
     "output_type": "display_data"
    }
   ],
   "source": [
    "orders.head()"
   ]
  },
  {
   "cell_type": "markdown",
   "metadata": {},
   "source": [
    "Tous les paquets sont disponibles partout."
   ]
  },
  {
   "cell_type": "code",
   "execution_count": null,
   "metadata": {},
   "outputs": [
    {
     "data": {
      "application/javascript": "\n            setTimeout(function() {\n                var nbb_cell_id = 6;\n                var nbb_unformatted_code = \"orders[\\\"order_date\\\"] = pd.to_datetime(orders.order_date)\";\n                var nbb_formatted_code = \"orders[\\\"order_date\\\"] = pd.to_datetime(orders.order_date)\";\n                var nbb_cells = Jupyter.notebook.get_cells();\n                for (var i = 0; i < nbb_cells.length; ++i) {\n                    if (nbb_cells[i].input_prompt_number == nbb_cell_id) {\n                        if (nbb_cells[i].get_text() == nbb_unformatted_code) {\n                             nbb_cells[i].set_text(nbb_formatted_code);\n                        }\n                        break;\n                    }\n                }\n            }, 500);\n            ",
      "text/plain": [
       "<IPython.core.display.Javascript object>"
      ]
     },
     "metadata": {},
     "output_type": "display_data"
    }
   ],
   "source": [
    "orders[\"order_date\"] = pd.to_datetime(orders.order_date)"
   ]
  },
  {
   "cell_type": "code",
   "execution_count": null,
   "metadata": {},
   "outputs": [
    {
     "name": "stdout",
     "output_type": "stream",
     "text": [
      "Temps\n",
      "From: 2021-01-01 00:00:00\n",
      "From: 2021-06-29 00:00:00\n"
     ]
    },
    {
     "data": {
      "application/javascript": "\n            setTimeout(function() {\n                var nbb_cell_id = 7;\n                var nbb_unformatted_code = \"print(\\\"Temps\\\")\\nprint(\\\"From: \\\" + str(orders[\\\"order_date\\\"].min()))\\nprint(\\\"From: \\\" + str(orders[\\\"order_date\\\"].max()))\";\n                var nbb_formatted_code = \"print(\\\"Temps\\\")\\nprint(\\\"From: \\\" + str(orders[\\\"order_date\\\"].min()))\\nprint(\\\"From: \\\" + str(orders[\\\"order_date\\\"].max()))\";\n                var nbb_cells = Jupyter.notebook.get_cells();\n                for (var i = 0; i < nbb_cells.length; ++i) {\n                    if (nbb_cells[i].input_prompt_number == nbb_cell_id) {\n                        if (nbb_cells[i].get_text() == nbb_unformatted_code) {\n                             nbb_cells[i].set_text(nbb_formatted_code);\n                        }\n                        break;\n                    }\n                }\n            }, 500);\n            ",
      "text/plain": [
       "<IPython.core.display.Javascript object>"
      ]
     },
     "metadata": {},
     "output_type": "display_data"
    }
   ],
   "source": [
    "print(\"Temps\")\n",
    "print(\"From: \" + str(orders[\"order_date\"].min()))\n",
    "print(\"From: \" + str(orders[\"order_date\"].max()))"
   ]
  },
  {
   "cell_type": "markdown",
   "metadata": {},
   "source": [
    "Ce dataset permet de nous donner une idée sur les habitudes des consommateurs (où ils sont, qu'est-ce qu'ils commandent, combien ils commandent, etc...).\n",
    "\n",
    "On peut donc tirer des informations exogènes qui peuvent-être intéressante pour remodeler l'organisation logistique et en particulier la répartition des ressources."
   ]
  },
  {
   "cell_type": "code",
   "execution_count": null,
   "metadata": {},
   "outputs": [
    {
     "data": {
      "text/plain": [
       "37332"
      ]
     },
     "execution_count": 8,
     "metadata": {},
     "output_type": "execute_result"
    },
    {
     "data": {
      "application/javascript": "\n            setTimeout(function() {\n                var nbb_cell_id = 8;\n                var nbb_unformatted_code = \"len(set(orders.order_id)) # All unique\";\n                var nbb_formatted_code = \"len(set(orders.order_id))  # All unique\";\n                var nbb_cells = Jupyter.notebook.get_cells();\n                for (var i = 0; i < nbb_cells.length; ++i) {\n                    if (nbb_cells[i].input_prompt_number == nbb_cell_id) {\n                        if (nbb_cells[i].get_text() == nbb_unformatted_code) {\n                             nbb_cells[i].set_text(nbb_formatted_code);\n                        }\n                        break;\n                    }\n                }\n            }, 500);\n            ",
      "text/plain": [
       "<IPython.core.display.Javascript object>"
      ]
     },
     "metadata": {},
     "output_type": "display_data"
    }
   ],
   "source": [
    "len(set(orders.order_id)) # All unique"
   ]
  },
  {
   "cell_type": "code",
   "execution_count": null,
   "metadata": {},
   "outputs": [
    {
     "data": {
      "text/html": [
       "<div>\n",
       "<style scoped>\n",
       "    .dataframe tbody tr th:only-of-type {\n",
       "        vertical-align: middle;\n",
       "    }\n",
       "\n",
       "    .dataframe tbody tr th {\n",
       "        vertical-align: top;\n",
       "    }\n",
       "\n",
       "    .dataframe thead th {\n",
       "        text-align: right;\n",
       "    }\n",
       "</style>\n",
       "<table border=\"1\" class=\"dataframe\">\n",
       "  <thead>\n",
       "    <tr style=\"text-align: right;\">\n",
       "      <th></th>\n",
       "      <th>order_id</th>\n",
       "      <th>package_id</th>\n",
       "      <th>package_volume</th>\n",
       "      <th>delivery_location</th>\n",
       "      <th>from_warehouse</th>\n",
       "      <th>order_date</th>\n",
       "      <th>delivered_date</th>\n",
       "      <th>n_units</th>\n",
       "      <th>order_total_volume</th>\n",
       "    </tr>\n",
       "  </thead>\n",
       "  <tbody>\n",
       "  </tbody>\n",
       "</table>\n",
       "</div>"
      ],
      "text/plain": [
       "Empty DataFrame\n",
       "Columns: [order_id, package_id, package_volume, delivery_location, from_warehouse, order_date, delivered_date, n_units, order_total_volume]\n",
       "Index: []"
      ]
     },
     "execution_count": 9,
     "metadata": {},
     "output_type": "execute_result"
    },
    {
     "data": {
      "application/javascript": "\n            setTimeout(function() {\n                var nbb_cell_id = 9;\n                var nbb_unformatted_code = \"orders[~ orders.delivery_location.isin(cities.city)] # We can join\";\n                var nbb_formatted_code = \"orders[~orders.delivery_location.isin(cities.city)]  # We can join\";\n                var nbb_cells = Jupyter.notebook.get_cells();\n                for (var i = 0; i < nbb_cells.length; ++i) {\n                    if (nbb_cells[i].input_prompt_number == nbb_cell_id) {\n                        if (nbb_cells[i].get_text() == nbb_unformatted_code) {\n                             nbb_cells[i].set_text(nbb_formatted_code);\n                        }\n                        break;\n                    }\n                }\n            }, 500);\n            ",
      "text/plain": [
       "<IPython.core.display.Javascript object>"
      ]
     },
     "metadata": {},
     "output_type": "display_data"
    }
   ],
   "source": [
    "orders[~ orders.delivery_location.isin(cities.city)] # We can join"
   ]
  },
  {
   "cell_type": "code",
   "execution_count": null,
   "metadata": {},
   "outputs": [
    {
     "data": {
      "text/html": [
       "<div>\n",
       "<style scoped>\n",
       "    .dataframe tbody tr th:only-of-type {\n",
       "        vertical-align: middle;\n",
       "    }\n",
       "\n",
       "    .dataframe tbody tr th {\n",
       "        vertical-align: top;\n",
       "    }\n",
       "\n",
       "    .dataframe thead th {\n",
       "        text-align: right;\n",
       "    }\n",
       "</style>\n",
       "<table border=\"1\" class=\"dataframe\">\n",
       "  <thead>\n",
       "    <tr style=\"text-align: right;\">\n",
       "      <th></th>\n",
       "      <th>order_id</th>\n",
       "      <th>package_id</th>\n",
       "      <th>package_volume</th>\n",
       "      <th>delivery_location</th>\n",
       "      <th>from_warehouse</th>\n",
       "      <th>order_date</th>\n",
       "      <th>delivered_date</th>\n",
       "      <th>n_units</th>\n",
       "      <th>order_total_volume</th>\n",
       "    </tr>\n",
       "  </thead>\n",
       "  <tbody>\n",
       "  </tbody>\n",
       "</table>\n",
       "</div>"
      ],
      "text/plain": [
       "Empty DataFrame\n",
       "Columns: [order_id, package_id, package_volume, delivery_location, from_warehouse, order_date, delivered_date, n_units, order_total_volume]\n",
       "Index: []"
      ]
     },
     "execution_count": 10,
     "metadata": {},
     "output_type": "execute_result"
    },
    {
     "data": {
      "application/javascript": "\n            setTimeout(function() {\n                var nbb_cell_id = 10;\n                var nbb_unformatted_code = \"orders[~ orders.from_warehouse.isin(warehouses.warehouse_city)] # We can join\";\n                var nbb_formatted_code = \"orders[~orders.from_warehouse.isin(warehouses.warehouse_city)]  # We can join\";\n                var nbb_cells = Jupyter.notebook.get_cells();\n                for (var i = 0; i < nbb_cells.length; ++i) {\n                    if (nbb_cells[i].input_prompt_number == nbb_cell_id) {\n                        if (nbb_cells[i].get_text() == nbb_unformatted_code) {\n                             nbb_cells[i].set_text(nbb_formatted_code);\n                        }\n                        break;\n                    }\n                }\n            }, 500);\n            ",
      "text/plain": [
       "<IPython.core.display.Javascript object>"
      ]
     },
     "metadata": {},
     "output_type": "display_data"
    }
   ],
   "source": [
    "orders[~ orders.from_warehouse.isin(warehouses.warehouse_city)] # We can join"
   ]
  },
  {
   "cell_type": "code",
   "execution_count": null,
   "metadata": {},
   "outputs": [
    {
     "data": {
      "application/javascript": "\n            setTimeout(function() {\n                var nbb_cell_id = 68;\n                var nbb_unformatted_code = \"orders = orders.dropna()\\norders.to_csv(\\\"data_clean/orders.csv\\\")\";\n                var nbb_formatted_code = \"orders = orders.dropna()\\norders.to_csv(\\\"data_clean/orders.csv\\\")\";\n                var nbb_cells = Jupyter.notebook.get_cells();\n                for (var i = 0; i < nbb_cells.length; ++i) {\n                    if (nbb_cells[i].input_prompt_number == nbb_cell_id) {\n                        if (nbb_cells[i].get_text() == nbb_unformatted_code) {\n                             nbb_cells[i].set_text(nbb_formatted_code);\n                        }\n                        break;\n                    }\n                }\n            }, 500);\n            ",
      "text/plain": [
       "<IPython.core.display.Javascript object>"
      ]
     },
     "metadata": {},
     "output_type": "display_data"
    }
   ],
   "source": [
    "orders = orders.dropna()\n",
    "orders.to_csv(\"data_clean/orders.csv\")"
   ]
  },
  {
   "cell_type": "markdown",
   "metadata": {},
   "source": [
    "## packages"
   ]
  },
  {
   "cell_type": "code",
   "execution_count": null,
   "metadata": {},
   "outputs": [
    {
     "name": "stdout",
     "output_type": "stream",
     "text": [
      "<class 'pandas.core.frame.DataFrame'>\n",
      "RangeIndex: 50 entries, 0 to 49\n",
      "Data columns (total 4 columns):\n",
      " #   Column            Non-Null Count  Dtype  \n",
      "---  ------            --------------  -----  \n",
      " 0   package_id        50 non-null     object \n",
      " 1   package_volume    50 non-null     float64\n",
      " 2   package_price     50 non-null     float64\n",
      " 3   package_revenues  46 non-null     float64\n",
      "dtypes: float64(3), object(1)\n",
      "memory usage: 1.7+ KB\n"
     ]
    },
    {
     "data": {
      "application/javascript": "\n            setTimeout(function() {\n                var nbb_cell_id = 11;\n                var nbb_unformatted_code = \"packages.info()\";\n                var nbb_formatted_code = \"packages.info()\";\n                var nbb_cells = Jupyter.notebook.get_cells();\n                for (var i = 0; i < nbb_cells.length; ++i) {\n                    if (nbb_cells[i].input_prompt_number == nbb_cell_id) {\n                        if (nbb_cells[i].get_text() == nbb_unformatted_code) {\n                             nbb_cells[i].set_text(nbb_formatted_code);\n                        }\n                        break;\n                    }\n                }\n            }, 500);\n            ",
      "text/plain": [
       "<IPython.core.display.Javascript object>"
      ]
     },
     "metadata": {},
     "output_type": "display_data"
    }
   ],
   "source": [
    "packages.info()"
   ]
  },
  {
   "cell_type": "code",
   "execution_count": null,
   "metadata": {},
   "outputs": [
    {
     "data": {
      "text/html": [
       "<div>\n",
       "<style scoped>\n",
       "    .dataframe tbody tr th:only-of-type {\n",
       "        vertical-align: middle;\n",
       "    }\n",
       "\n",
       "    .dataframe tbody tr th {\n",
       "        vertical-align: top;\n",
       "    }\n",
       "\n",
       "    .dataframe thead th {\n",
       "        text-align: right;\n",
       "    }\n",
       "</style>\n",
       "<table border=\"1\" class=\"dataframe\">\n",
       "  <thead>\n",
       "    <tr style=\"text-align: right;\">\n",
       "      <th></th>\n",
       "      <th>package_id</th>\n",
       "      <th>package_volume</th>\n",
       "      <th>package_price</th>\n",
       "      <th>package_revenues</th>\n",
       "    </tr>\n",
       "  </thead>\n",
       "  <tbody>\n",
       "    <tr>\n",
       "      <th>0</th>\n",
       "      <td>jjnvac3HYvsrBQp9jxf5qj</td>\n",
       "      <td>1.0615</td>\n",
       "      <td>427.87</td>\n",
       "      <td>69.89</td>\n",
       "    </tr>\n",
       "    <tr>\n",
       "      <th>1</th>\n",
       "      <td>3nwbxBUemtMG75cVPs7q7R</td>\n",
       "      <td>1.3451</td>\n",
       "      <td>914.04</td>\n",
       "      <td>69.89</td>\n",
       "    </tr>\n",
       "    <tr>\n",
       "      <th>2</th>\n",
       "      <td>CwNUeLRRdqm5DhwCmr743i</td>\n",
       "      <td>0.2867</td>\n",
       "      <td>59.39</td>\n",
       "      <td>20.99</td>\n",
       "    </tr>\n",
       "    <tr>\n",
       "      <th>3</th>\n",
       "      <td>6H7ukEuzfShov54gB3sN6V</td>\n",
       "      <td>0.0020</td>\n",
       "      <td>12.87</td>\n",
       "      <td>4.89</td>\n",
       "    </tr>\n",
       "    <tr>\n",
       "      <th>4</th>\n",
       "      <td>eMZvEhv2562R9UEzTamYtC</td>\n",
       "      <td>2.7234</td>\n",
       "      <td>1882.33</td>\n",
       "      <td>69.89</td>\n",
       "    </tr>\n",
       "  </tbody>\n",
       "</table>\n",
       "</div>"
      ],
      "text/plain": [
       "               package_id  package_volume  package_price  package_revenues\n",
       "0  jjnvac3HYvsrBQp9jxf5qj          1.0615         427.87             69.89\n",
       "1  3nwbxBUemtMG75cVPs7q7R          1.3451         914.04             69.89\n",
       "2  CwNUeLRRdqm5DhwCmr743i          0.2867          59.39             20.99\n",
       "3  6H7ukEuzfShov54gB3sN6V          0.0020          12.87              4.89\n",
       "4  eMZvEhv2562R9UEzTamYtC          2.7234        1882.33             69.89"
      ]
     },
     "execution_count": 12,
     "metadata": {},
     "output_type": "execute_result"
    },
    {
     "data": {
      "application/javascript": "\n            setTimeout(function() {\n                var nbb_cell_id = 12;\n                var nbb_unformatted_code = \"packages.head()\";\n                var nbb_formatted_code = \"packages.head()\";\n                var nbb_cells = Jupyter.notebook.get_cells();\n                for (var i = 0; i < nbb_cells.length; ++i) {\n                    if (nbb_cells[i].input_prompt_number == nbb_cell_id) {\n                        if (nbb_cells[i].get_text() == nbb_unformatted_code) {\n                             nbb_cells[i].set_text(nbb_formatted_code);\n                        }\n                        break;\n                    }\n                }\n            }, 500);\n            ",
      "text/plain": [
       "<IPython.core.display.Javascript object>"
      ]
     },
     "metadata": {},
     "output_type": "display_data"
    }
   ],
   "source": [
    "packages.head()"
   ]
  },
  {
   "cell_type": "code",
   "execution_count": null,
   "metadata": {},
   "outputs": [
    {
     "data": {
      "text/plain": [
       "<AxesSubplot:>"
      ]
     },
     "execution_count": 27,
     "metadata": {},
     "output_type": "execute_result"
    },
    {
     "data": {
      "image/png": "[encoded data removed]",
      "text/plain": [
       "<Figure size 432x288 with 1 Axes>"
      ]
     },
     "metadata": {
      "needs_background": "light"
     },
     "output_type": "display_data"
    },
    {
     "data": {
      "application/javascript": "\n            setTimeout(function() {\n                var nbb_cell_id = 27;\n                var nbb_unformatted_code = \"packages.package_volume.hist()\";\n                var nbb_formatted_code = \"packages.package_volume.hist()\";\n                var nbb_cells = Jupyter.notebook.get_cells();\n                for (var i = 0; i < nbb_cells.length; ++i) {\n                    if (nbb_cells[i].input_prompt_number == nbb_cell_id) {\n                        if (nbb_cells[i].get_text() == nbb_unformatted_code) {\n                             nbb_cells[i].set_text(nbb_formatted_code);\n                        }\n                        break;\n                    }\n                }\n            }, 500);\n            ",
      "text/plain": [
       "<IPython.core.display.Javascript object>"
      ]
     },
     "metadata": {},
     "output_type": "display_data"
    }
   ],
   "source": [
    "packages.package_volume.hist()"
   ]
  },
  {
   "cell_type": "code",
   "execution_count": null,
   "metadata": {},
   "outputs": [
    {
     "data": {
      "text/html": [
       "<div>\n",
       "<style scoped>\n",
       "    .dataframe tbody tr th:only-of-type {\n",
       "        vertical-align: middle;\n",
       "    }\n",
       "\n",
       "    .dataframe tbody tr th {\n",
       "        vertical-align: top;\n",
       "    }\n",
       "\n",
       "    .dataframe thead th {\n",
       "        text-align: right;\n",
       "    }\n",
       "</style>\n",
       "<table border=\"1\" class=\"dataframe\">\n",
       "  <thead>\n",
       "    <tr style=\"text-align: right;\">\n",
       "      <th></th>\n",
       "      <th>package_id</th>\n",
       "      <th>package_volume</th>\n",
       "      <th>package_price</th>\n",
       "      <th>package_revenues</th>\n",
       "    </tr>\n",
       "  </thead>\n",
       "  <tbody>\n",
       "    <tr>\n",
       "      <th>28</th>\n",
       "      <td>aBCDNfWx5TAkxbTTmQJEE4</td>\n",
       "      <td>113.8</td>\n",
       "      <td>209.75</td>\n",
       "      <td>20.99</td>\n",
       "    </tr>\n",
       "  </tbody>\n",
       "</table>\n",
       "</div>"
      ],
      "text/plain": [
       "                package_id  package_volume  package_price  package_revenues\n",
       "28  aBCDNfWx5TAkxbTTmQJEE4           113.8         209.75             20.99"
      ]
     },
     "execution_count": 28,
     "metadata": {},
     "output_type": "execute_result"
    },
    {
     "data": {
      "application/javascript": "\n            setTimeout(function() {\n                var nbb_cell_id = 28;\n                var nbb_unformatted_code = \"packages[packages[\\\"package_volume\\\"]>50]\";\n                var nbb_formatted_code = \"packages[packages[\\\"package_volume\\\"] > 50]\";\n                var nbb_cells = Jupyter.notebook.get_cells();\n                for (var i = 0; i < nbb_cells.length; ++i) {\n                    if (nbb_cells[i].input_prompt_number == nbb_cell_id) {\n                        if (nbb_cells[i].get_text() == nbb_unformatted_code) {\n                             nbb_cells[i].set_text(nbb_formatted_code);\n                        }\n                        break;\n                    }\n                }\n            }, 500);\n            ",
      "text/plain": [
       "<IPython.core.display.Javascript object>"
      ]
     },
     "metadata": {},
     "output_type": "display_data"
    }
   ],
   "source": [
    "packages[packages[\"package_volume\"]>50] # ! Problem"
   ]
  },
  {
   "cell_type": "markdown",
   "metadata": {},
   "source": [
    "Il y a un problème avec ce paquet, on peut regarder les commandes sur lesquelles il intervient"
   ]
  },
  {
   "cell_type": "code",
   "execution_count": null,
   "metadata": {},
   "outputs": [
    {
     "data": {
      "text/html": [
       "<div>\n",
       "<style scoped>\n",
       "    .dataframe tbody tr th:only-of-type {\n",
       "        vertical-align: middle;\n",
       "    }\n",
       "\n",
       "    .dataframe tbody tr th {\n",
       "        vertical-align: top;\n",
       "    }\n",
       "\n",
       "    .dataframe thead th {\n",
       "        text-align: right;\n",
       "    }\n",
       "</style>\n",
       "<table border=\"1\" class=\"dataframe\">\n",
       "  <thead>\n",
       "    <tr style=\"text-align: right;\">\n",
       "      <th></th>\n",
       "      <th>order_id</th>\n",
       "      <th>package_id</th>\n",
       "      <th>package_volume</th>\n",
       "      <th>delivery_location</th>\n",
       "      <th>from_warehouse</th>\n",
       "      <th>order_date</th>\n",
       "      <th>delivered_date</th>\n",
       "      <th>n_units</th>\n",
       "      <th>order_total_volume</th>\n",
       "    </tr>\n",
       "  </thead>\n",
       "  <tbody>\n",
       "    <tr>\n",
       "      <th>6</th>\n",
       "      <td>UeVqLAt9h6sfuB9AwC3iwD</td>\n",
       "      <td>aBCDNfWx5TAkxbTTmQJEE4</td>\n",
       "      <td>0.1138</td>\n",
       "      <td>Beauvais</td>\n",
       "      <td>Cergy</td>\n",
       "      <td>2021-01-01</td>\n",
       "      <td>2021-01-04 00:00:00</td>\n",
       "      <td>47.0</td>\n",
       "      <td>5.3486</td>\n",
       "    </tr>\n",
       "    <tr>\n",
       "      <th>109</th>\n",
       "      <td>X6r8v76WyEedHt2Mgc7NvF</td>\n",
       "      <td>aBCDNfWx5TAkxbTTmQJEE4</td>\n",
       "      <td>0.1138</td>\n",
       "      <td>Mérignac</td>\n",
       "      <td>Montauban</td>\n",
       "      <td>2021-01-01</td>\n",
       "      <td>2021-01-04 00:00:00</td>\n",
       "      <td>39.0</td>\n",
       "      <td>4.4382</td>\n",
       "    </tr>\n",
       "    <tr>\n",
       "      <th>140</th>\n",
       "      <td>NECdkgqQmQ9eDF8waSeT2P</td>\n",
       "      <td>aBCDNfWx5TAkxbTTmQJEE4</td>\n",
       "      <td>0.1138</td>\n",
       "      <td>Perpignan</td>\n",
       "      <td>Montauban</td>\n",
       "      <td>2021-01-01</td>\n",
       "      <td>2021-01-04 00:00:00</td>\n",
       "      <td>42.0</td>\n",
       "      <td>4.7796</td>\n",
       "    </tr>\n",
       "    <tr>\n",
       "      <th>162</th>\n",
       "      <td>UeE4GPJk5KQFvvkM3HTbjF</td>\n",
       "      <td>aBCDNfWx5TAkxbTTmQJEE4</td>\n",
       "      <td>0.1138</td>\n",
       "      <td>Lille</td>\n",
       "      <td>Reims</td>\n",
       "      <td>2021-01-02</td>\n",
       "      <td>2021-01-03 00:00:00</td>\n",
       "      <td>46.0</td>\n",
       "      <td>5.2348</td>\n",
       "    </tr>\n",
       "    <tr>\n",
       "      <th>172</th>\n",
       "      <td>o74Nkex3tEZ89rXMF7Qrf5</td>\n",
       "      <td>aBCDNfWx5TAkxbTTmQJEE4</td>\n",
       "      <td>0.1138</td>\n",
       "      <td>Besançon</td>\n",
       "      <td>Reims</td>\n",
       "      <td>2021-01-02</td>\n",
       "      <td>2021-01-05 00:00:00</td>\n",
       "      <td>18.0</td>\n",
       "      <td>2.0484</td>\n",
       "    </tr>\n",
       "    <tr>\n",
       "      <th>...</th>\n",
       "      <td>...</td>\n",
       "      <td>...</td>\n",
       "      <td>...</td>\n",
       "      <td>...</td>\n",
       "      <td>...</td>\n",
       "      <td>...</td>\n",
       "      <td>...</td>\n",
       "      <td>...</td>\n",
       "      <td>...</td>\n",
       "    </tr>\n",
       "    <tr>\n",
       "      <th>37113</th>\n",
       "      <td>3qoW22NAHKoysf9kaqLSDS</td>\n",
       "      <td>aBCDNfWx5TAkxbTTmQJEE4</td>\n",
       "      <td>0.1138</td>\n",
       "      <td>Rouen</td>\n",
       "      <td>Cergy</td>\n",
       "      <td>2021-06-29</td>\n",
       "      <td>NaN</td>\n",
       "      <td>24.0</td>\n",
       "      <td>2.7312</td>\n",
       "    </tr>\n",
       "    <tr>\n",
       "      <th>37151</th>\n",
       "      <td>o6r5TAgFdmUmDJep9EBW7x</td>\n",
       "      <td>aBCDNfWx5TAkxbTTmQJEE4</td>\n",
       "      <td>0.1138</td>\n",
       "      <td>Orléans</td>\n",
       "      <td>Cergy</td>\n",
       "      <td>2021-06-29</td>\n",
       "      <td>NaN</td>\n",
       "      <td>6.0</td>\n",
       "      <td>0.6828</td>\n",
       "    </tr>\n",
       "    <tr>\n",
       "      <th>37183</th>\n",
       "      <td>id8wh5w9Y5URYmBiy3Gcev</td>\n",
       "      <td>aBCDNfWx5TAkxbTTmQJEE4</td>\n",
       "      <td>0.1138</td>\n",
       "      <td>Issy-les-Moulineaux</td>\n",
       "      <td>Cergy</td>\n",
       "      <td>2021-06-29</td>\n",
       "      <td>NaN</td>\n",
       "      <td>34.0</td>\n",
       "      <td>3.8692</td>\n",
       "    </tr>\n",
       "    <tr>\n",
       "      <th>37204</th>\n",
       "      <td>feqQQHdk9RHWT46W6vSbcw</td>\n",
       "      <td>aBCDNfWx5TAkxbTTmQJEE4</td>\n",
       "      <td>0.1138</td>\n",
       "      <td>Orléans</td>\n",
       "      <td>Cergy</td>\n",
       "      <td>2021-06-29</td>\n",
       "      <td>NaN</td>\n",
       "      <td>44.0</td>\n",
       "      <td>5.0072</td>\n",
       "    </tr>\n",
       "    <tr>\n",
       "      <th>37231</th>\n",
       "      <td>8YDisYrQn77wGxgciLK2An</td>\n",
       "      <td>aBCDNfWx5TAkxbTTmQJEE4</td>\n",
       "      <td>0.1138</td>\n",
       "      <td>Dunkerque</td>\n",
       "      <td>Cergy</td>\n",
       "      <td>2021-06-29</td>\n",
       "      <td>NaN</td>\n",
       "      <td>37.0</td>\n",
       "      <td>4.2106</td>\n",
       "    </tr>\n",
       "  </tbody>\n",
       "</table>\n",
       "<p>741 rows × 9 columns</p>\n",
       "</div>"
      ],
      "text/plain": [
       "                     order_id              package_id  package_volume  \\\n",
       "6      UeVqLAt9h6sfuB9AwC3iwD  aBCDNfWx5TAkxbTTmQJEE4          0.1138   \n",
       "109    X6r8v76WyEedHt2Mgc7NvF  aBCDNfWx5TAkxbTTmQJEE4          0.1138   \n",
       "140    NECdkgqQmQ9eDF8waSeT2P  aBCDNfWx5TAkxbTTmQJEE4          0.1138   \n",
       "162    UeE4GPJk5KQFvvkM3HTbjF  aBCDNfWx5TAkxbTTmQJEE4          0.1138   \n",
       "172    o74Nkex3tEZ89rXMF7Qrf5  aBCDNfWx5TAkxbTTmQJEE4          0.1138   \n",
       "...                       ...                     ...             ...   \n",
       "37113  3qoW22NAHKoysf9kaqLSDS  aBCDNfWx5TAkxbTTmQJEE4          0.1138   \n",
       "37151  o6r5TAgFdmUmDJep9EBW7x  aBCDNfWx5TAkxbTTmQJEE4          0.1138   \n",
       "37183  id8wh5w9Y5URYmBiy3Gcev  aBCDNfWx5TAkxbTTmQJEE4          0.1138   \n",
       "37204  feqQQHdk9RHWT46W6vSbcw  aBCDNfWx5TAkxbTTmQJEE4          0.1138   \n",
       "37231  8YDisYrQn77wGxgciLK2An  aBCDNfWx5TAkxbTTmQJEE4          0.1138   \n",
       "\n",
       "         delivery_location from_warehouse order_date       delivered_date  \\\n",
       "6                 Beauvais          Cergy 2021-01-01  2021-01-04 00:00:00   \n",
       "109               Mérignac      Montauban 2021-01-01  2021-01-04 00:00:00   \n",
       "140              Perpignan      Montauban 2021-01-01  2021-01-04 00:00:00   \n",
       "162                  Lille          Reims 2021-01-02  2021-01-03 00:00:00   \n",
       "172               Besançon          Reims 2021-01-02  2021-01-05 00:00:00   \n",
       "...                    ...            ...        ...                  ...   \n",
       "37113                Rouen          Cergy 2021-06-29                  NaN   \n",
       "37151              Orléans          Cergy 2021-06-29                  NaN   \n",
       "37183  Issy-les-Moulineaux          Cergy 2021-06-29                  NaN   \n",
       "37204              Orléans          Cergy 2021-06-29                  NaN   \n",
       "37231            Dunkerque          Cergy 2021-06-29                  NaN   \n",
       "\n",
       "       n_units  order_total_volume  \n",
       "6         47.0              5.3486  \n",
       "109       39.0              4.4382  \n",
       "140       42.0              4.7796  \n",
       "162       46.0              5.2348  \n",
       "172       18.0              2.0484  \n",
       "...        ...                 ...  \n",
       "37113     24.0              2.7312  \n",
       "37151      6.0              0.6828  \n",
       "37183     34.0              3.8692  \n",
       "37204     44.0              5.0072  \n",
       "37231     37.0              4.2106  \n",
       "\n",
       "[741 rows x 9 columns]"
      ]
     },
     "execution_count": 30,
     "metadata": {},
     "output_type": "execute_result"
    },
    {
     "data": {
      "application/javascript": "\n            setTimeout(function() {\n                var nbb_cell_id = 30;\n                var nbb_unformatted_code = \"orders[orders[\\\"package_id\\\"] == \\\"aBCDNfWx5TAkxbTTmQJEE4\\\"]\";\n                var nbb_formatted_code = \"orders[orders[\\\"package_id\\\"] == \\\"aBCDNfWx5TAkxbTTmQJEE4\\\"]\";\n                var nbb_cells = Jupyter.notebook.get_cells();\n                for (var i = 0; i < nbb_cells.length; ++i) {\n                    if (nbb_cells[i].input_prompt_number == nbb_cell_id) {\n                        if (nbb_cells[i].get_text() == nbb_unformatted_code) {\n                             nbb_cells[i].set_text(nbb_formatted_code);\n                        }\n                        break;\n                    }\n                }\n            }, 500);\n            ",
      "text/plain": [
       "<IPython.core.display.Javascript object>"
      ]
     },
     "metadata": {},
     "output_type": "display_data"
    }
   ],
   "source": [
    "orders[orders[\"package_id\"] == \"aBCDNfWx5TAkxbTTmQJEE4\"]"
   ]
  },
  {
   "cell_type": "markdown",
   "metadata": {},
   "source": [
    "L'erreur est d'un facteur 100, on corrige dans la base de données `packages`."
   ]
  },
  {
   "cell_type": "code",
   "execution_count": null,
   "metadata": {},
   "outputs": [
    {
     "data": {
      "application/javascript": "\n            setTimeout(function() {\n                var nbb_cell_id = 36;\n                var nbb_unformatted_code = \"packages.loc[28, \\\"package_volume\\\"] = 0.1138\";\n                var nbb_formatted_code = \"packages.loc[28, \\\"package_volume\\\"] = 0.1138\";\n                var nbb_cells = Jupyter.notebook.get_cells();\n                for (var i = 0; i < nbb_cells.length; ++i) {\n                    if (nbb_cells[i].input_prompt_number == nbb_cell_id) {\n                        if (nbb_cells[i].get_text() == nbb_unformatted_code) {\n                             nbb_cells[i].set_text(nbb_formatted_code);\n                        }\n                        break;\n                    }\n                }\n            }, 500);\n            ",
      "text/plain": [
       "<IPython.core.display.Javascript object>"
      ]
     },
     "metadata": {},
     "output_type": "display_data"
    }
   ],
   "source": [
    "packages.loc[28, \"package_volume\"] = 0.1138"
   ]
  },
  {
   "cell_type": "code",
   "execution_count": null,
   "metadata": {},
   "outputs": [
    {
     "data": {
      "text/plain": [
       "<AxesSubplot:>"
      ]
     },
     "execution_count": 37,
     "metadata": {},
     "output_type": "execute_result"
    },
    {
     "data": {
      "image/png": "[encoded data removed]",
      "text/plain": [
       "<Figure size 432x288 with 1 Axes>"
      ]
     },
     "metadata": {
      "needs_background": "light"
     },
     "output_type": "display_data"
    },
    {
     "data": {
      "application/javascript": "\n            setTimeout(function() {\n                var nbb_cell_id = 37;\n                var nbb_unformatted_code = \"packages.package_volume.hist()\";\n                var nbb_formatted_code = \"packages.package_volume.hist()\";\n                var nbb_cells = Jupyter.notebook.get_cells();\n                for (var i = 0; i < nbb_cells.length; ++i) {\n                    if (nbb_cells[i].input_prompt_number == nbb_cell_id) {\n                        if (nbb_cells[i].get_text() == nbb_unformatted_code) {\n                             nbb_cells[i].set_text(nbb_formatted_code);\n                        }\n                        break;\n                    }\n                }\n            }, 500);\n            ",
      "text/plain": [
       "<IPython.core.display.Javascript object>"
      ]
     },
     "metadata": {},
     "output_type": "display_data"
    }
   ],
   "source": [
    "packages.package_volume.hist()"
   ]
  },
  {
   "cell_type": "code",
   "execution_count": null,
   "metadata": {},
   "outputs": [
    {
     "data": {
      "text/plain": [
       "<AxesSubplot:>"
      ]
     },
     "execution_count": 40,
     "metadata": {},
     "output_type": "execute_result"
    },
    {
     "data": {
      "image/png": "[encoded data removed]",
      "text/plain": [
       "<Figure size 432x288 with 1 Axes>"
      ]
     },
     "metadata": {
      "needs_background": "light"
     },
     "output_type": "display_data"
    },
    {
     "data": {
      "application/javascript": "\n            setTimeout(function() {\n                var nbb_cell_id = 40;\n                var nbb_unformatted_code = \"packages.package_revenues.hist()\";\n                var nbb_formatted_code = \"packages.package_revenues.hist()\";\n                var nbb_cells = Jupyter.notebook.get_cells();\n                for (var i = 0; i < nbb_cells.length; ++i) {\n                    if (nbb_cells[i].input_prompt_number == nbb_cell_id) {\n                        if (nbb_cells[i].get_text() == nbb_unformatted_code) {\n                             nbb_cells[i].set_text(nbb_formatted_code);\n                        }\n                        break;\n                    }\n                }\n            }, 500);\n            ",
      "text/plain": [
       "<IPython.core.display.Javascript object>"
      ]
     },
     "metadata": {},
     "output_type": "display_data"
    }
   ],
   "source": [
    "packages.package_revenues.hist()"
   ]
  },
  {
   "cell_type": "markdown",
   "metadata": {},
   "source": [
    "Un autre soucis à l'évidence."
   ]
  },
  {
   "cell_type": "code",
   "execution_count": null,
   "metadata": {},
   "outputs": [
    {
     "data": {
      "text/html": [
       "<div>\n",
       "<style scoped>\n",
       "    .dataframe tbody tr th:only-of-type {\n",
       "        vertical-align: middle;\n",
       "    }\n",
       "\n",
       "    .dataframe tbody tr th {\n",
       "        vertical-align: top;\n",
       "    }\n",
       "\n",
       "    .dataframe thead th {\n",
       "        text-align: right;\n",
       "    }\n",
       "</style>\n",
       "<table border=\"1\" class=\"dataframe\">\n",
       "  <thead>\n",
       "    <tr style=\"text-align: right;\">\n",
       "      <th></th>\n",
       "      <th>package_id</th>\n",
       "      <th>package_volume</th>\n",
       "      <th>package_price</th>\n",
       "      <th>package_revenues</th>\n",
       "    </tr>\n",
       "  </thead>\n",
       "  <tbody>\n",
       "    <tr>\n",
       "      <th>36</th>\n",
       "      <td>bfvaknKja6jMJYp56vtjgf</td>\n",
       "      <td>0.0072</td>\n",
       "      <td>5.0</td>\n",
       "      <td>9401.28</td>\n",
       "    </tr>\n",
       "  </tbody>\n",
       "</table>\n",
       "</div>"
      ],
      "text/plain": [
       "                package_id  package_volume  package_price  package_revenues\n",
       "36  bfvaknKja6jMJYp56vtjgf          0.0072            5.0           9401.28"
      ]
     },
     "execution_count": 41,
     "metadata": {},
     "output_type": "execute_result"
    },
    {
     "data": {
      "application/javascript": "\n            setTimeout(function() {\n                var nbb_cell_id = 41;\n                var nbb_unformatted_code = \"packages[packages.package_revenues>100]\";\n                var nbb_formatted_code = \"packages[packages.package_revenues > 100]\";\n                var nbb_cells = Jupyter.notebook.get_cells();\n                for (var i = 0; i < nbb_cells.length; ++i) {\n                    if (nbb_cells[i].input_prompt_number == nbb_cell_id) {\n                        if (nbb_cells[i].get_text() == nbb_unformatted_code) {\n                             nbb_cells[i].set_text(nbb_formatted_code);\n                        }\n                        break;\n                    }\n                }\n            }, 500);\n            ",
      "text/plain": [
       "<IPython.core.display.Javascript object>"
      ]
     },
     "metadata": {},
     "output_type": "display_data"
    }
   ],
   "source": [
    "packages[packages.package_revenues>100]"
   ]
  },
  {
   "cell_type": "markdown",
   "metadata": {},
   "source": [
    "Erreur sur `package_revenues`, le vrai revenu est 13.99"
   ]
  },
  {
   "cell_type": "code",
   "execution_count": null,
   "metadata": {},
   "outputs": [
    {
     "data": {
      "application/javascript": "\n            setTimeout(function() {\n                var nbb_cell_id = 42;\n                var nbb_unformatted_code = \"packages.loc[36, \\\"package_revenues\\\"] = 13.99\";\n                var nbb_formatted_code = \"packages.loc[36, \\\"package_revenues\\\"] = 13.99\";\n                var nbb_cells = Jupyter.notebook.get_cells();\n                for (var i = 0; i < nbb_cells.length; ++i) {\n                    if (nbb_cells[i].input_prompt_number == nbb_cell_id) {\n                        if (nbb_cells[i].get_text() == nbb_unformatted_code) {\n                             nbb_cells[i].set_text(nbb_formatted_code);\n                        }\n                        break;\n                    }\n                }\n            }, 500);\n            ",
      "text/plain": [
       "<IPython.core.display.Javascript object>"
      ]
     },
     "metadata": {},
     "output_type": "display_data"
    }
   ],
   "source": [
    "packages.loc[36, \"package_revenues\"] = 13.99"
   ]
  },
  {
   "cell_type": "code",
   "execution_count": null,
   "metadata": {},
   "outputs": [
    {
     "data": {
      "text/plain": [
       "<AxesSubplot:>"
      ]
     },
     "execution_count": 44,
     "metadata": {},
     "output_type": "execute_result"
    },
    {
     "data": {
      "image/png": "[encoded data removed]",
      "text/plain": [
       "<Figure size 432x288 with 1 Axes>"
      ]
     },
     "metadata": {
      "needs_background": "light"
     },
     "output_type": "display_data"
    },
    {
     "data": {
      "application/javascript": "\n            setTimeout(function() {\n                var nbb_cell_id = 44;\n                var nbb_unformatted_code = \"packages.package_revenues.hist()\";\n                var nbb_formatted_code = \"packages.package_revenues.hist()\";\n                var nbb_cells = Jupyter.notebook.get_cells();\n                for (var i = 0; i < nbb_cells.length; ++i) {\n                    if (nbb_cells[i].input_prompt_number == nbb_cell_id) {\n                        if (nbb_cells[i].get_text() == nbb_unformatted_code) {\n                             nbb_cells[i].set_text(nbb_formatted_code);\n                        }\n                        break;\n                    }\n                }\n            }, 500);\n            ",
      "text/plain": [
       "<IPython.core.display.Javascript object>"
      ]
     },
     "metadata": {},
     "output_type": "display_data"
    }
   ],
   "source": [
    "packages.package_revenues.hist()"
   ]
  },
  {
   "cell_type": "code",
   "execution_count": null,
   "metadata": {},
   "outputs": [
    {
     "data": {
      "application/javascript": "\n            setTimeout(function() {\n                var nbb_cell_id = 47;\n                var nbb_unformatted_code = \"packages.to_csv(\\\"data_clean/packages.csv\\\")\";\n                var nbb_formatted_code = \"packages.to_csv(\\\"data_clean/packages.csv\\\")\";\n                var nbb_cells = Jupyter.notebook.get_cells();\n                for (var i = 0; i < nbb_cells.length; ++i) {\n                    if (nbb_cells[i].input_prompt_number == nbb_cell_id) {\n                        if (nbb_cells[i].get_text() == nbb_unformatted_code) {\n                             nbb_cells[i].set_text(nbb_formatted_code);\n                        }\n                        break;\n                    }\n                }\n            }, 500);\n            ",
      "text/plain": [
       "<IPython.core.display.Javascript object>"
      ]
     },
     "metadata": {},
     "output_type": "display_data"
    }
   ],
   "source": [
    "packages.to_csv(\"data_clean/packages.csv\")"
   ]
  },
  {
   "cell_type": "markdown",
   "metadata": {},
   "source": [
    "## pricing"
   ]
  },
  {
   "cell_type": "code",
   "execution_count": null,
   "metadata": {},
   "outputs": [
    {
     "data": {
      "text/html": [
       "<div>\n",
       "<style scoped>\n",
       "    .dataframe tbody tr th:only-of-type {\n",
       "        vertical-align: middle;\n",
       "    }\n",
       "\n",
       "    .dataframe tbody tr th {\n",
       "        vertical-align: top;\n",
       "    }\n",
       "\n",
       "    .dataframe thead th {\n",
       "        text-align: right;\n",
       "    }\n",
       "</style>\n",
       "<table border=\"1\" class=\"dataframe\">\n",
       "  <thead>\n",
       "    <tr style=\"text-align: right;\">\n",
       "      <th></th>\n",
       "      <th>max_volume</th>\n",
       "      <th>pricing</th>\n",
       "      <th>comment</th>\n",
       "    </tr>\n",
       "  </thead>\n",
       "  <tbody>\n",
       "    <tr>\n",
       "      <th>0</th>\n",
       "      <td>0.003</td>\n",
       "      <td>4.89</td>\n",
       "      <td>NaN</td>\n",
       "    </tr>\n",
       "    <tr>\n",
       "      <th>1</th>\n",
       "      <td>0.027</td>\n",
       "      <td>13.99</td>\n",
       "      <td>NaN</td>\n",
       "    </tr>\n",
       "    <tr>\n",
       "      <th>2</th>\n",
       "      <td>0.432</td>\n",
       "      <td>20.99</td>\n",
       "      <td>NaN</td>\n",
       "    </tr>\n",
       "    <tr>\n",
       "      <th>3</th>\n",
       "      <td>1.000</td>\n",
       "      <td>30.49</td>\n",
       "      <td>NaN</td>\n",
       "    </tr>\n",
       "    <tr>\n",
       "      <th>4</th>\n",
       "      <td>4.000</td>\n",
       "      <td>69.89</td>\n",
       "      <td>NaN</td>\n",
       "    </tr>\n",
       "    <tr>\n",
       "      <th>5</th>\n",
       "      <td>10.000</td>\n",
       "      <td>89.99</td>\n",
       "      <td>NaN</td>\n",
       "    </tr>\n",
       "  </tbody>\n",
       "</table>\n",
       "</div>"
      ],
      "text/plain": [
       "   max_volume  pricing  comment\n",
       "0       0.003     4.89      NaN\n",
       "1       0.027    13.99      NaN\n",
       "2       0.432    20.99      NaN\n",
       "3       1.000    30.49      NaN\n",
       "4       4.000    69.89      NaN\n",
       "5      10.000    89.99      NaN"
      ]
     },
     "execution_count": 14,
     "metadata": {},
     "output_type": "execute_result"
    },
    {
     "data": {
      "application/javascript": "\n            setTimeout(function() {\n                var nbb_cell_id = 14;\n                var nbb_unformatted_code = \"pricing\";\n                var nbb_formatted_code = \"pricing\";\n                var nbb_cells = Jupyter.notebook.get_cells();\n                for (var i = 0; i < nbb_cells.length; ++i) {\n                    if (nbb_cells[i].input_prompt_number == nbb_cell_id) {\n                        if (nbb_cells[i].get_text() == nbb_unformatted_code) {\n                             nbb_cells[i].set_text(nbb_formatted_code);\n                        }\n                        break;\n                    }\n                }\n            }, 500);\n            ",
      "text/plain": [
       "<IPython.core.display.Javascript object>"
      ]
     },
     "metadata": {},
     "output_type": "display_data"
    }
   ],
   "source": [
    "pricing"
   ]
  },
  {
   "cell_type": "code",
   "execution_count": null,
   "metadata": {},
   "outputs": [
    {
     "data": {
      "application/javascript": "\n            setTimeout(function() {\n                var nbb_cell_id = 48;\n                var nbb_unformatted_code = \"pricing.to_csv(\\\"data_clean/pricing.csv\\\")\";\n                var nbb_formatted_code = \"pricing.to_csv(\\\"data_clean/pricing.csv\\\")\";\n                var nbb_cells = Jupyter.notebook.get_cells();\n                for (var i = 0; i < nbb_cells.length; ++i) {\n                    if (nbb_cells[i].input_prompt_number == nbb_cell_id) {\n                        if (nbb_cells[i].get_text() == nbb_unformatted_code) {\n                             nbb_cells[i].set_text(nbb_formatted_code);\n                        }\n                        break;\n                    }\n                }\n            }, 500);\n            ",
      "text/plain": [
       "<IPython.core.display.Javascript object>"
      ]
     },
     "metadata": {},
     "output_type": "display_data"
    }
   ],
   "source": [
    "pricing.to_csv(\"data_clean/pricing.csv\")"
   ]
  },
  {
   "cell_type": "markdown",
   "metadata": {},
   "source": [
    "## routes"
   ]
  },
  {
   "cell_type": "code",
   "execution_count": null,
   "metadata": {},
   "outputs": [
    {
     "name": "stdout",
     "output_type": "stream",
     "text": [
      "<class 'pandas.core.frame.DataFrame'>\n",
      "RangeIndex: 7426 entries, 0 to 7425\n",
      "Data columns (total 9 columns):\n",
      " #   Column          Non-Null Count  Dtype  \n",
      "---  ------          --------------  -----  \n",
      " 0   truck_id        7426 non-null   object \n",
      " 1   duration        7426 non-null   float64\n",
      " 2   fill_volume     7426 non-null   float64\n",
      " 3   n_units         7426 non-null   float64\n",
      " 4   orders          7426 non-null   object \n",
      " 5   from_warehouse  7426 non-null   object \n",
      " 6   route_date      7426 non-null   object \n",
      " 7   stops           7426 non-null   object \n",
      " 8   total_distance  7426 non-null   float64\n",
      "dtypes: float64(4), object(5)\n",
      "memory usage: 522.3+ KB\n"
     ]
    },
    {
     "data": {
      "application/javascript": "\n            setTimeout(function() {\n                var nbb_cell_id = 20;\n                var nbb_unformatted_code = \"routes = pd.read_csv(\\\"data/routes_v2.csv\\\")\\nroutes.info()\";\n                var nbb_formatted_code = \"routes = pd.read_csv(\\\"data/routes_v2.csv\\\")\\nroutes.info()\";\n                var nbb_cells = Jupyter.notebook.get_cells();\n                for (var i = 0; i < nbb_cells.length; ++i) {\n                    if (nbb_cells[i].input_prompt_number == nbb_cell_id) {\n                        if (nbb_cells[i].get_text() == nbb_unformatted_code) {\n                             nbb_cells[i].set_text(nbb_formatted_code);\n                        }\n                        break;\n                    }\n                }\n            }, 500);\n            ",
      "text/plain": [
       "<IPython.core.display.Javascript object>"
      ]
     },
     "metadata": {},
     "output_type": "display_data"
    }
   ],
   "source": [
    "routes = pd.read_csv(\"data/routes_v2.csv\")\n",
    "routes.info()"
   ]
  },
  {
   "cell_type": "code",
   "execution_count": null,
   "metadata": {},
   "outputs": [
    {
     "data": {
      "text/html": [
       "<div>\n",
       "<style scoped>\n",
       "    .dataframe tbody tr th:only-of-type {\n",
       "        vertical-align: middle;\n",
       "    }\n",
       "\n",
       "    .dataframe tbody tr th {\n",
       "        vertical-align: top;\n",
       "    }\n",
       "\n",
       "    .dataframe thead th {\n",
       "        text-align: right;\n",
       "    }\n",
       "</style>\n",
       "<table border=\"1\" class=\"dataframe\">\n",
       "  <thead>\n",
       "    <tr style=\"text-align: right;\">\n",
       "      <th></th>\n",
       "      <th>truck_id</th>\n",
       "      <th>duration</th>\n",
       "      <th>fill_volume</th>\n",
       "      <th>n_units</th>\n",
       "      <th>orders</th>\n",
       "      <th>from_warehouse</th>\n",
       "      <th>route_date</th>\n",
       "      <th>stops</th>\n",
       "      <th>total_distance</th>\n",
       "    </tr>\n",
       "  </thead>\n",
       "  <tbody>\n",
       "    <tr>\n",
       "      <th>0</th>\n",
       "      <td>jehwGBpNg2rDLeKoYeiaLs</td>\n",
       "      <td>2.167136</td>\n",
       "      <td>5.9879</td>\n",
       "      <td>87.0</td>\n",
       "      <td>nK4iPf8nrGA9yivRH66ehS &gt; jnsH9ndQ3UKcWSbb2UMkFn</td>\n",
       "      <td>Clermont-Ferrand</td>\n",
       "      <td>2021-01-02</td>\n",
       "      <td>Clermont-Ferrand &gt; Bourges</td>\n",
       "      <td>153.950611</td>\n",
       "    </tr>\n",
       "    <tr>\n",
       "      <th>1</th>\n",
       "      <td>XnzFnkALW3tLnzrdCVFyKH</td>\n",
       "      <td>23.230412</td>\n",
       "      <td>4.7060</td>\n",
       "      <td>190.0</td>\n",
       "      <td>XHfAWaLxTFbo5UQwtd7CMz &gt; Wd6rPc4wPRNmt3ruf3F7o...</td>\n",
       "      <td>Cergy</td>\n",
       "      <td>2021-01-02</td>\n",
       "      <td>Cergy &gt; Saint-Nazaire &gt; Saint-Denis &gt; Rouen &gt; ...</td>\n",
       "      <td>1416.184102</td>\n",
       "    </tr>\n",
       "    <tr>\n",
       "      <th>2</th>\n",
       "      <td>dwQ5Xd6TwcXURBczFdRXVy</td>\n",
       "      <td>6.995822</td>\n",
       "      <td>10.9609</td>\n",
       "      <td>148.0</td>\n",
       "      <td>gQi59MNfDa5YFpVWxfmPin &gt; FaqH6N2zWCeykLh5f9VPW...</td>\n",
       "      <td>Cergy</td>\n",
       "      <td>2021-01-02</td>\n",
       "      <td>Cergy &gt; Boulogne-Billancourt &gt; Aubervilliers &gt;...</td>\n",
       "      <td>184.704129</td>\n",
       "    </tr>\n",
       "    <tr>\n",
       "      <th>3</th>\n",
       "      <td>A58tMgZVPfe2ucEBcCSXTW</td>\n",
       "      <td>4.785198</td>\n",
       "      <td>1.8904</td>\n",
       "      <td>79.0</td>\n",
       "      <td>7bzBdqUKWXyNrAhntXNrBq &gt; BZsYUHDe4eVj7HaeM8MBt7</td>\n",
       "      <td>Reims</td>\n",
       "      <td>2021-01-02</td>\n",
       "      <td>Reims &gt; Épinal &gt; Troyes</td>\n",
       "      <td>390.851862</td>\n",
       "    </tr>\n",
       "    <tr>\n",
       "      <th>4</th>\n",
       "      <td>KRNfDAmUV8bRzkxhdAYfkj</td>\n",
       "      <td>4.413343</td>\n",
       "      <td>0.4536</td>\n",
       "      <td>63.0</td>\n",
       "      <td>DfN8XqUVeVHjTW3Pat76Tr &gt; MUT2TaTikTsi8FzSCnimxv</td>\n",
       "      <td>Clermont-Ferrand</td>\n",
       "      <td>2021-01-03</td>\n",
       "      <td>Clermont-Ferrand &gt; Villeurbanne</td>\n",
       "      <td>139.447356</td>\n",
       "    </tr>\n",
       "  </tbody>\n",
       "</table>\n",
       "</div>"
      ],
      "text/plain": [
       "                 truck_id   duration  fill_volume  n_units  \\\n",
       "0  jehwGBpNg2rDLeKoYeiaLs   2.167136       5.9879     87.0   \n",
       "1  XnzFnkALW3tLnzrdCVFyKH  23.230412       4.7060    190.0   \n",
       "2  dwQ5Xd6TwcXURBczFdRXVy   6.995822      10.9609    148.0   \n",
       "3  A58tMgZVPfe2ucEBcCSXTW   4.785198       1.8904     79.0   \n",
       "4  KRNfDAmUV8bRzkxhdAYfkj   4.413343       0.4536     63.0   \n",
       "\n",
       "                                              orders    from_warehouse  \\\n",
       "0    nK4iPf8nrGA9yivRH66ehS > jnsH9ndQ3UKcWSbb2UMkFn  Clermont-Ferrand   \n",
       "1  XHfAWaLxTFbo5UQwtd7CMz > Wd6rPc4wPRNmt3ruf3F7o...             Cergy   \n",
       "2  gQi59MNfDa5YFpVWxfmPin > FaqH6N2zWCeykLh5f9VPW...             Cergy   \n",
       "3    7bzBdqUKWXyNrAhntXNrBq > BZsYUHDe4eVj7HaeM8MBt7             Reims   \n",
       "4    DfN8XqUVeVHjTW3Pat76Tr > MUT2TaTikTsi8FzSCnimxv  Clermont-Ferrand   \n",
       "\n",
       "   route_date                                              stops  \\\n",
       "0  2021-01-02                         Clermont-Ferrand > Bourges   \n",
       "1  2021-01-02  Cergy > Saint-Nazaire > Saint-Denis > Rouen > ...   \n",
       "2  2021-01-02  Cergy > Boulogne-Billancourt > Aubervilliers >...   \n",
       "3  2021-01-02                            Reims > Épinal > Troyes   \n",
       "4  2021-01-03                    Clermont-Ferrand > Villeurbanne   \n",
       "\n",
       "   total_distance  \n",
       "0      153.950611  \n",
       "1     1416.184102  \n",
       "2      184.704129  \n",
       "3      390.851862  \n",
       "4      139.447356  "
      ]
     },
     "execution_count": 21,
     "metadata": {},
     "output_type": "execute_result"
    },
    {
     "data": {
      "application/javascript": "\n            setTimeout(function() {\n                var nbb_cell_id = 21;\n                var nbb_unformatted_code = \"routes.head()\";\n                var nbb_formatted_code = \"routes.head()\";\n                var nbb_cells = Jupyter.notebook.get_cells();\n                for (var i = 0; i < nbb_cells.length; ++i) {\n                    if (nbb_cells[i].input_prompt_number == nbb_cell_id) {\n                        if (nbb_cells[i].get_text() == nbb_unformatted_code) {\n                             nbb_cells[i].set_text(nbb_formatted_code);\n                        }\n                        break;\n                    }\n                }\n            }, 500);\n            ",
      "text/plain": [
       "<IPython.core.display.Javascript object>"
      ]
     },
     "metadata": {},
     "output_type": "display_data"
    }
   ],
   "source": [
    "routes.head()"
   ]
  },
  {
   "cell_type": "code",
   "execution_count": null,
   "metadata": {},
   "outputs": [
    {
     "data": {
      "text/plain": [
       "<AxesSubplot:>"
      ]
     },
     "execution_count": 22,
     "metadata": {},
     "output_type": "execute_result"
    },
    {
     "data": {
      "image/png": "[encoded data removed]",
      "text/plain": [
       "<Figure size 432x288 with 1 Axes>"
      ]
     },
     "metadata": {
      "needs_background": "light"
     },
     "output_type": "display_data"
    },
    {
     "data": {
      "application/javascript": "\n            setTimeout(function() {\n                var nbb_cell_id = 22;\n                var nbb_unformatted_code = \"routes.total_distance.hist()\";\n                var nbb_formatted_code = \"routes.total_distance.hist()\";\n                var nbb_cells = Jupyter.notebook.get_cells();\n                for (var i = 0; i < nbb_cells.length; ++i) {\n                    if (nbb_cells[i].input_prompt_number == nbb_cell_id) {\n                        if (nbb_cells[i].get_text() == nbb_unformatted_code) {\n                             nbb_cells[i].set_text(nbb_formatted_code);\n                        }\n                        break;\n                    }\n                }\n            }, 500);\n            ",
      "text/plain": [
       "<IPython.core.display.Javascript object>"
      ]
     },
     "metadata": {},
     "output_type": "display_data"
    }
   ],
   "source": [
    "routes.total_distance.hist()"
   ]
  },
  {
   "cell_type": "code",
   "execution_count": null,
   "metadata": {},
   "outputs": [
    {
     "data": {
      "application/javascript": "\n            setTimeout(function() {\n                var nbb_cell_id = 49;\n                var nbb_unformatted_code = \"routes[\\\"route_date\\\"] = pd.to_datetime(routes[\\\"route_date\\\"])\";\n                var nbb_formatted_code = \"routes[\\\"route_date\\\"] = pd.to_datetime(routes[\\\"route_date\\\"])\";\n                var nbb_cells = Jupyter.notebook.get_cells();\n                for (var i = 0; i < nbb_cells.length; ++i) {\n                    if (nbb_cells[i].input_prompt_number == nbb_cell_id) {\n                        if (nbb_cells[i].get_text() == nbb_unformatted_code) {\n                             nbb_cells[i].set_text(nbb_formatted_code);\n                        }\n                        break;\n                    }\n                }\n            }, 500);\n            ",
      "text/plain": [
       "<IPython.core.display.Javascript object>"
      ]
     },
     "metadata": {},
     "output_type": "display_data"
    }
   ],
   "source": [
    "routes[\"route_date\"] = pd.to_datetime(routes[\"route_date\"])"
   ]
  },
  {
   "cell_type": "code",
   "execution_count": null,
   "metadata": {},
   "outputs": [
    {
     "data": {
      "text/plain": [
       "<AxesSubplot:>"
      ]
     },
     "execution_count": 50,
     "metadata": {},
     "output_type": "execute_result"
    },
    {
     "data": {
      "image/png": "[encoded data removed]",
      "text/plain": [
       "<Figure size 432x288 with 1 Axes>"
      ]
     },
     "metadata": {
      "needs_background": "light"
     },
     "output_type": "display_data"
    },
    {
     "data": {
      "application/javascript": "\n            setTimeout(function() {\n                var nbb_cell_id = 50;\n                var nbb_unformatted_code = \"routes[\\\"route_date\\\"].hist()\";\n                var nbb_formatted_code = \"routes[\\\"route_date\\\"].hist()\";\n                var nbb_cells = Jupyter.notebook.get_cells();\n                for (var i = 0; i < nbb_cells.length; ++i) {\n                    if (nbb_cells[i].input_prompt_number == nbb_cell_id) {\n                        if (nbb_cells[i].get_text() == nbb_unformatted_code) {\n                             nbb_cells[i].set_text(nbb_formatted_code);\n                        }\n                        break;\n                    }\n                }\n            }, 500);\n            ",
      "text/plain": [
       "<IPython.core.display.Javascript object>"
      ]
     },
     "metadata": {},
     "output_type": "display_data"
    }
   ],
   "source": [
    "routes[\"route_date\"].hist()"
   ]
  },
  {
   "cell_type": "markdown",
   "metadata": {},
   "source": [
    "Augmentation du nombre de trajet par jour sur les 6 mois ?"
   ]
  },
  {
   "cell_type": "code",
   "execution_count": null,
   "metadata": {},
   "outputs": [
    {
     "data": {
      "text/plain": [
       "<AxesSubplot:>"
      ]
     },
     "execution_count": 51,
     "metadata": {},
     "output_type": "execute_result"
    },
    {
     "data": {
      "image/png": "[encoded data removed]",
      "text/plain": [
       "<Figure size 432x288 with 1 Axes>"
      ]
     },
     "metadata": {
      "needs_background": "light"
     },
     "output_type": "display_data"
    },
    {
     "data": {
      "application/javascript": "\n            setTimeout(function() {\n                var nbb_cell_id = 51;\n                var nbb_unformatted_code = \"routes[\\\"total_distance\\\"].hist()\";\n                var nbb_formatted_code = \"routes[\\\"total_distance\\\"].hist()\";\n                var nbb_cells = Jupyter.notebook.get_cells();\n                for (var i = 0; i < nbb_cells.length; ++i) {\n                    if (nbb_cells[i].input_prompt_number == nbb_cell_id) {\n                        if (nbb_cells[i].get_text() == nbb_unformatted_code) {\n                             nbb_cells[i].set_text(nbb_formatted_code);\n                        }\n                        break;\n                    }\n                }\n            }, 500);\n            ",
      "text/plain": [
       "<IPython.core.display.Javascript object>"
      ]
     },
     "metadata": {},
     "output_type": "display_data"
    }
   ],
   "source": [
    "routes[\"total_distance\"].hist()"
   ]
  },
  {
   "cell_type": "code",
   "execution_count": null,
   "metadata": {},
   "outputs": [
    {
     "data": {
      "text/plain": [
       "True"
      ]
     },
     "execution_count": 54,
     "metadata": {},
     "output_type": "execute_result"
    },
    {
     "data": {
      "application/javascript": "\n            setTimeout(function() {\n                var nbb_cell_id = 54;\n                var nbb_unformatted_code = \"routes[\\\"from_warehouse\\\"].isin(warehouses.warehouse_city).all()\";\n                var nbb_formatted_code = \"routes[\\\"from_warehouse\\\"].isin(warehouses.warehouse_city).all()\";\n                var nbb_cells = Jupyter.notebook.get_cells();\n                for (var i = 0; i < nbb_cells.length; ++i) {\n                    if (nbb_cells[i].input_prompt_number == nbb_cell_id) {\n                        if (nbb_cells[i].get_text() == nbb_unformatted_code) {\n                             nbb_cells[i].set_text(nbb_formatted_code);\n                        }\n                        break;\n                    }\n                }\n            }, 500);\n            ",
      "text/plain": [
       "<IPython.core.display.Javascript object>"
      ]
     },
     "metadata": {},
     "output_type": "display_data"
    }
   ],
   "source": [
    "routes[\"from_warehouse\"].isin(warehouses.warehouse_city).all() # Les entrepôts sont corrects"
   ]
  },
  {
   "cell_type": "code",
   "execution_count": null,
   "metadata": {},
   "outputs": [
    {
     "data": {
      "text/plain": [
       "True"
      ]
     },
     "execution_count": 57,
     "metadata": {},
     "output_type": "execute_result"
    },
    {
     "data": {
      "application/javascript": "\n            setTimeout(function() {\n                var nbb_cell_id = 57;\n                var nbb_unformatted_code = \"routes[\\\"orders\\\"].str.split(\\\" > \\\").explode().isin(orders.order_id).all()\";\n                var nbb_formatted_code = \"routes[\\\"orders\\\"].str.split(\\\" > \\\").explode().isin(orders.order_id).all()\";\n                var nbb_cells = Jupyter.notebook.get_cells();\n                for (var i = 0; i < nbb_cells.length; ++i) {\n                    if (nbb_cells[i].input_prompt_number == nbb_cell_id) {\n                        if (nbb_cells[i].get_text() == nbb_unformatted_code) {\n                             nbb_cells[i].set_text(nbb_formatted_code);\n                        }\n                        break;\n                    }\n                }\n            }, 500);\n            ",
      "text/plain": [
       "<IPython.core.display.Javascript object>"
      ]
     },
     "metadata": {},
     "output_type": "display_data"
    }
   ],
   "source": [
    "routes[\"orders\"].str.split(\" > \").explode().isin(orders.order_id).all() # Les id commande sont corrects"
   ]
  },
  {
   "cell_type": "code",
   "execution_count": null,
   "metadata": {},
   "outputs": [
    {
     "data": {
      "text/plain": [
       "True"
      ]
     },
     "execution_count": 59,
     "metadata": {},
     "output_type": "execute_result"
    },
    {
     "data": {
      "application/javascript": "\n            setTimeout(function() {\n                var nbb_cell_id = 59;\n                var nbb_unformatted_code = \"routes[\\\"stops\\\"].str.split(\\\" > \\\").explode().isin(cities.city).all() # Les arr\\u00eats sont corrects\";\n                var nbb_formatted_code = \"routes[\\\"stops\\\"].str.split(\\\" > \\\").explode().isin(\\n    cities.city\\n).all()  # Les arr\\u00eats sont corrects\";\n                var nbb_cells = Jupyter.notebook.get_cells();\n                for (var i = 0; i < nbb_cells.length; ++i) {\n                    if (nbb_cells[i].input_prompt_number == nbb_cell_id) {\n                        if (nbb_cells[i].get_text() == nbb_unformatted_code) {\n                             nbb_cells[i].set_text(nbb_formatted_code);\n                        }\n                        break;\n                    }\n                }\n            }, 500);\n            ",
      "text/plain": [
       "<IPython.core.display.Javascript object>"
      ]
     },
     "metadata": {},
     "output_type": "display_data"
    }
   ],
   "source": [
    "routes[\"stops\"].str.split(\" > \").explode().isin(cities.city).all() # Les arrêts sont corrects"
   ]
  },
  {
   "cell_type": "code",
   "execution_count": null,
   "metadata": {},
   "outputs": [
    {
     "data": {
      "text/plain": [
       "<AxesSubplot:>"
      ]
     },
     "execution_count": 62,
     "metadata": {},
     "output_type": "execute_result"
    },
    {
     "data": {
      "image/png": "[encoded data removed]",
      "text/plain": [
       "<Figure size 432x288 with 1 Axes>"
      ]
     },
     "metadata": {
      "needs_background": "light"
     },
     "output_type": "display_data"
    },
    {
     "data": {
      "application/javascript": "\n            setTimeout(function() {\n                var nbb_cell_id = 62;\n                var nbb_unformatted_code = \"(routes.fill_volume / trucks.truck_volume.iloc[0]).hist()\";\n                var nbb_formatted_code = \"(routes.fill_volume / trucks.truck_volume.iloc[0]).hist()\";\n                var nbb_cells = Jupyter.notebook.get_cells();\n                for (var i = 0; i < nbb_cells.length; ++i) {\n                    if (nbb_cells[i].input_prompt_number == nbb_cell_id) {\n                        if (nbb_cells[i].get_text() == nbb_unformatted_code) {\n                             nbb_cells[i].set_text(nbb_formatted_code);\n                        }\n                        break;\n                    }\n                }\n            }, 500);\n            ",
      "text/plain": [
       "<IPython.core.display.Javascript object>"
      ]
     },
     "metadata": {},
     "output_type": "display_data"
    }
   ],
   "source": [
    "(routes.fill_volume / trucks.truck_volume.iloc[0]).hist()"
   ]
  },
  {
   "cell_type": "code",
   "execution_count": null,
   "metadata": {},
   "outputs": [
    {
     "data": {
      "application/javascript": "\n            setTimeout(function() {\n                var nbb_cell_id = 63;\n                var nbb_unformatted_code = \"routes.to_csv(\\\"data_clean/routes.csv\\\")\";\n                var nbb_formatted_code = \"routes.to_csv(\\\"data_clean/routes.csv\\\")\";\n                var nbb_cells = Jupyter.notebook.get_cells();\n                for (var i = 0; i < nbb_cells.length; ++i) {\n                    if (nbb_cells[i].input_prompt_number == nbb_cell_id) {\n                        if (nbb_cells[i].get_text() == nbb_unformatted_code) {\n                             nbb_cells[i].set_text(nbb_formatted_code);\n                        }\n                        break;\n                    }\n                }\n            }, 500);\n            ",
      "text/plain": [
       "<IPython.core.display.Javascript object>"
      ]
     },
     "metadata": {},
     "output_type": "display_data"
    }
   ],
   "source": [
    "routes.to_csv(\"data_clean/routes.csv\")"
   ]
  },
  {
   "cell_type": "markdown",
   "metadata": {},
   "source": [
    "- On peut essayer de représenter les trajets/parcours \"classiques\" pour chaque warehouse.\n",
    "- On peut identifier la pression exercée sur les camions en regardant la distance totale parcourue par camion.\n",
    "- On peut identifier les entrepôts les plus sollicités de la même façon mais en raisonnant par entrepôt. "
   ]
  },
  {
   "cell_type": "markdown",
   "metadata": {},
   "source": [
    "## trucks"
   ]
  },
  {
   "cell_type": "code",
   "execution_count": null,
   "metadata": {},
   "outputs": [
    {
     "name": "stdout",
     "output_type": "stream",
     "text": [
      "<class 'pandas.core.frame.DataFrame'>\n",
      "RangeIndex: 250 entries, 0 to 249\n",
      "Data columns (total 3 columns):\n",
      " #   Column           Non-Null Count  Dtype  \n",
      "---  ------           --------------  -----  \n",
      " 0   truck_id         250 non-null    object \n",
      " 1   truck_warehouse  250 non-null    object \n",
      " 2   truck_volume     250 non-null    float64\n",
      "dtypes: float64(1), object(2)\n",
      "memory usage: 6.0+ KB\n"
     ]
    },
    {
     "data": {
      "application/javascript": "\n            setTimeout(function() {\n                var nbb_cell_id = 23;\n                var nbb_unformatted_code = \"trucks.info()\";\n                var nbb_formatted_code = \"trucks.info()\";\n                var nbb_cells = Jupyter.notebook.get_cells();\n                for (var i = 0; i < nbb_cells.length; ++i) {\n                    if (nbb_cells[i].input_prompt_number == nbb_cell_id) {\n                        if (nbb_cells[i].get_text() == nbb_unformatted_code) {\n                             nbb_cells[i].set_text(nbb_formatted_code);\n                        }\n                        break;\n                    }\n                }\n            }, 500);\n            ",
      "text/plain": [
       "<IPython.core.display.Javascript object>"
      ]
     },
     "metadata": {},
     "output_type": "display_data"
    }
   ],
   "source": [
    "trucks.info()"
   ]
  },
  {
   "cell_type": "code",
   "execution_count": null,
   "metadata": {},
   "outputs": [
    {
     "data": {
      "text/html": [
       "<div>\n",
       "<style scoped>\n",
       "    .dataframe tbody tr th:only-of-type {\n",
       "        vertical-align: middle;\n",
       "    }\n",
       "\n",
       "    .dataframe tbody tr th {\n",
       "        vertical-align: top;\n",
       "    }\n",
       "\n",
       "    .dataframe thead th {\n",
       "        text-align: right;\n",
       "    }\n",
       "</style>\n",
       "<table border=\"1\" class=\"dataframe\">\n",
       "  <thead>\n",
       "    <tr style=\"text-align: right;\">\n",
       "      <th></th>\n",
       "      <th>truck_id</th>\n",
       "      <th>truck_warehouse</th>\n",
       "      <th>truck_volume</th>\n",
       "    </tr>\n",
       "  </thead>\n",
       "  <tbody>\n",
       "    <tr>\n",
       "      <th>0</th>\n",
       "      <td>hnxWnBLHwfeFX4Pz5smUN6</td>\n",
       "      <td>Clermont-Ferrand</td>\n",
       "      <td>81.25</td>\n",
       "    </tr>\n",
       "    <tr>\n",
       "      <th>1</th>\n",
       "      <td>mVUb5dkxfaSPBMKEujjeMg</td>\n",
       "      <td>Clermont-Ferrand</td>\n",
       "      <td>81.25</td>\n",
       "    </tr>\n",
       "    <tr>\n",
       "      <th>2</th>\n",
       "      <td>TF6RdRZmB5HycLNfYUCpwZ</td>\n",
       "      <td>Clermont-Ferrand</td>\n",
       "      <td>81.25</td>\n",
       "    </tr>\n",
       "    <tr>\n",
       "      <th>3</th>\n",
       "      <td>B5TgpouAP6EFb8GQ9GgXkN</td>\n",
       "      <td>Clermont-Ferrand</td>\n",
       "      <td>81.25</td>\n",
       "    </tr>\n",
       "    <tr>\n",
       "      <th>4</th>\n",
       "      <td>ieMkR4dENMAiSXofsiGeFg</td>\n",
       "      <td>Clermont-Ferrand</td>\n",
       "      <td>81.25</td>\n",
       "    </tr>\n",
       "  </tbody>\n",
       "</table>\n",
       "</div>"
      ],
      "text/plain": [
       "                 truck_id   truck_warehouse  truck_volume\n",
       "0  hnxWnBLHwfeFX4Pz5smUN6  Clermont-Ferrand         81.25\n",
       "1  mVUb5dkxfaSPBMKEujjeMg  Clermont-Ferrand         81.25\n",
       "2  TF6RdRZmB5HycLNfYUCpwZ  Clermont-Ferrand         81.25\n",
       "3  B5TgpouAP6EFb8GQ9GgXkN  Clermont-Ferrand         81.25\n",
       "4  ieMkR4dENMAiSXofsiGeFg  Clermont-Ferrand         81.25"
      ]
     },
     "execution_count": 24,
     "metadata": {},
     "output_type": "execute_result"
    },
    {
     "data": {
      "application/javascript": "\n            setTimeout(function() {\n                var nbb_cell_id = 24;\n                var nbb_unformatted_code = \"trucks.head()\";\n                var nbb_formatted_code = \"trucks.head()\";\n                var nbb_cells = Jupyter.notebook.get_cells();\n                for (var i = 0; i < nbb_cells.length; ++i) {\n                    if (nbb_cells[i].input_prompt_number == nbb_cell_id) {\n                        if (nbb_cells[i].get_text() == nbb_unformatted_code) {\n                             nbb_cells[i].set_text(nbb_formatted_code);\n                        }\n                        break;\n                    }\n                }\n            }, 500);\n            ",
      "text/plain": [
       "<IPython.core.display.Javascript object>"
      ]
     },
     "metadata": {},
     "output_type": "display_data"
    }
   ],
   "source": [
    "trucks.head()"
   ]
  },
  {
   "cell_type": "code",
   "execution_count": null,
   "metadata": {},
   "outputs": [
    {
     "data": {
      "text/plain": [
       "Clermont-Ferrand    50\n",
       "Cergy               50\n",
       "Reims               50\n",
       "Avignon             50\n",
       "Montauban           50\n",
       "Name: truck_warehouse, dtype: int64"
      ]
     },
     "execution_count": 25,
     "metadata": {},
     "output_type": "execute_result"
    },
    {
     "data": {
      "application/javascript": "\n            setTimeout(function() {\n                var nbb_cell_id = 25;\n                var nbb_unformatted_code = \"trucks.truck_warehouse.value_counts()\";\n                var nbb_formatted_code = \"trucks.truck_warehouse.value_counts()\";\n                var nbb_cells = Jupyter.notebook.get_cells();\n                for (var i = 0; i < nbb_cells.length; ++i) {\n                    if (nbb_cells[i].input_prompt_number == nbb_cell_id) {\n                        if (nbb_cells[i].get_text() == nbb_unformatted_code) {\n                             nbb_cells[i].set_text(nbb_formatted_code);\n                        }\n                        break;\n                    }\n                }\n            }, 500);\n            ",
      "text/plain": [
       "<IPython.core.display.Javascript object>"
      ]
     },
     "metadata": {},
     "output_type": "display_data"
    }
   ],
   "source": [
    "trucks.truck_warehouse.value_counts()"
   ]
  },
  {
   "cell_type": "markdown",
   "metadata": {},
   "source": [
    "On a donc 250 camions, répartis de façon uniforme dans les 5 entrepôts. Peut-être faudrait-il mettre en regard avec les populations couvertes par chaque entrepôt ?\n",
    "\n",
    "Pour ce faire on pourrait découper le territoire en 5 (territoire couvert par chaque entrepôt), et comparer les niveaux de population"
   ]
  },
  {
   "cell_type": "code",
   "execution_count": null,
   "metadata": {},
   "outputs": [
    {
     "data": {
      "text/plain": [
       "81.25    250\n",
       "Name: truck_volume, dtype: int64"
      ]
     },
     "execution_count": 26,
     "metadata": {},
     "output_type": "execute_result"
    },
    {
     "data": {
      "application/javascript": "\n            setTimeout(function() {\n                var nbb_cell_id = 26;\n                var nbb_unformatted_code = \"trucks.truck_volume.value_counts()\";\n                var nbb_formatted_code = \"trucks.truck_volume.value_counts()\";\n                var nbb_cells = Jupyter.notebook.get_cells();\n                for (var i = 0; i < nbb_cells.length; ++i) {\n                    if (nbb_cells[i].input_prompt_number == nbb_cell_id) {\n                        if (nbb_cells[i].get_text() == nbb_unformatted_code) {\n                             nbb_cells[i].set_text(nbb_formatted_code);\n                        }\n                        break;\n                    }\n                }\n            }, 500);\n            ",
      "text/plain": [
       "<IPython.core.display.Javascript object>"
      ]
     },
     "metadata": {},
     "output_type": "display_data"
    }
   ],
   "source": [
    "trucks.truck_volume.value_counts()"
   ]
  },
  {
   "cell_type": "code",
   "execution_count": null,
   "metadata": {},
   "outputs": [
    {
     "data": {
      "application/javascript": "\n            setTimeout(function() {\n                var nbb_cell_id = 71;\n                var nbb_unformatted_code = \"trucks.to_csv(\\\"data_clean/trucks.csv\\\")\";\n                var nbb_formatted_code = \"trucks.to_csv(\\\"data_clean/trucks.csv\\\")\";\n                var nbb_cells = Jupyter.notebook.get_cells();\n                for (var i = 0; i < nbb_cells.length; ++i) {\n                    if (nbb_cells[i].input_prompt_number == nbb_cell_id) {\n                        if (nbb_cells[i].get_text() == nbb_unformatted_code) {\n                             nbb_cells[i].set_text(nbb_formatted_code);\n                        }\n                        break;\n                    }\n                }\n            }, 500);\n            ",
      "text/plain": [
       "<IPython.core.display.Javascript object>"
      ]
     },
     "metadata": {},
     "output_type": "display_data"
    }
   ],
   "source": [
    "trucks.to_csv(\"data_clean/trucks.csv\")"
   ]
  },
  {
   "cell_type": "markdown",
   "metadata": {},
   "source": [
    "On peut faire une jointure avec `routes` sur `truck_id` pour **calculer le taux de remplissage des camions**."
   ]
  },
  {
   "cell_type": "markdown",
   "metadata": {},
   "source": [
    "## warehouses"
   ]
  },
  {
   "cell_type": "code",
   "execution_count": null,
   "metadata": {},
   "outputs": [
    {
     "name": "stdout",
     "output_type": "stream",
     "text": [
      "<class 'pandas.core.frame.DataFrame'>\n",
      "RangeIndex: 5 entries, 0 to 4\n",
      "Data columns (total 1 columns):\n",
      " #   Column          Non-Null Count  Dtype \n",
      "---  ------          --------------  ----- \n",
      " 0   warehouse_city  5 non-null      object\n",
      "dtypes: object(1)\n",
      "memory usage: 168.0+ bytes\n"
     ]
    },
    {
     "data": {
      "application/javascript": "\n            setTimeout(function() {\n                var nbb_cell_id = 46;\n                var nbb_unformatted_code = \"warehouses = data[\\\"warehouses\\\"]\\nwarehouses.info()\";\n                var nbb_formatted_code = \"warehouses = data[\\\"warehouses\\\"]\\nwarehouses.info()\";\n                var nbb_cells = Jupyter.notebook.get_cells();\n                for (var i = 0; i < nbb_cells.length; ++i) {\n                    if (nbb_cells[i].input_prompt_number == nbb_cell_id) {\n                        if (nbb_cells[i].get_text() == nbb_unformatted_code) {\n                             nbb_cells[i].set_text(nbb_formatted_code);\n                        }\n                        break;\n                    }\n                }\n            }, 500);\n            ",
      "text/plain": [
       "<IPython.core.display.Javascript object>"
      ]
     },
     "metadata": {},
     "output_type": "display_data"
    }
   ],
   "source": [
    "warehouses = data[\"warehouses\"]\n",
    "warehouses.info()"
   ]
  },
  {
   "cell_type": "code",
   "execution_count": null,
   "metadata": {},
   "outputs": [
    {
     "data": {
      "text/html": [
       "<div>\n",
       "<style scoped>\n",
       "    .dataframe tbody tr th:only-of-type {\n",
       "        vertical-align: middle;\n",
       "    }\n",
       "\n",
       "    .dataframe tbody tr th {\n",
       "        vertical-align: top;\n",
       "    }\n",
       "\n",
       "    .dataframe thead th {\n",
       "        text-align: right;\n",
       "    }\n",
       "</style>\n",
       "<table border=\"1\" class=\"dataframe\">\n",
       "  <thead>\n",
       "    <tr style=\"text-align: right;\">\n",
       "      <th></th>\n",
       "      <th>warehouse_city</th>\n",
       "    </tr>\n",
       "  </thead>\n",
       "  <tbody>\n",
       "    <tr>\n",
       "      <th>0</th>\n",
       "      <td>Clermont-Ferrand</td>\n",
       "    </tr>\n",
       "    <tr>\n",
       "      <th>1</th>\n",
       "      <td>Cergy</td>\n",
       "    </tr>\n",
       "    <tr>\n",
       "      <th>2</th>\n",
       "      <td>Reims</td>\n",
       "    </tr>\n",
       "    <tr>\n",
       "      <th>3</th>\n",
       "      <td>Avignon</td>\n",
       "    </tr>\n",
       "    <tr>\n",
       "      <th>4</th>\n",
       "      <td>Montauban</td>\n",
       "    </tr>\n",
       "  </tbody>\n",
       "</table>\n",
       "</div>"
      ],
      "text/plain": [
       "     warehouse_city\n",
       "0  Clermont-Ferrand\n",
       "1             Cergy\n",
       "2             Reims\n",
       "3           Avignon\n",
       "4         Montauban"
      ]
     },
     "execution_count": 47,
     "metadata": {},
     "output_type": "execute_result"
    },
    {
     "data": {
      "application/javascript": "\n            setTimeout(function() {\n                var nbb_cell_id = 47;\n                var nbb_unformatted_code = \"warehouses\";\n                var nbb_formatted_code = \"warehouses\";\n                var nbb_cells = Jupyter.notebook.get_cells();\n                for (var i = 0; i < nbb_cells.length; ++i) {\n                    if (nbb_cells[i].input_prompt_number == nbb_cell_id) {\n                        if (nbb_cells[i].get_text() == nbb_unformatted_code) {\n                             nbb_cells[i].set_text(nbb_formatted_code);\n                        }\n                        break;\n                    }\n                }\n            }, 500);\n            ",
      "text/plain": [
       "<IPython.core.display.Javascript object>"
      ]
     },
     "metadata": {},
     "output_type": "display_data"
    }
   ],
   "source": [
    "warehouses"
   ]
  },
  {
   "cell_type": "code",
   "execution_count": null,
   "metadata": {},
   "outputs": [
    {
     "data": {
      "application/javascript": "\n            setTimeout(function() {\n                var nbb_cell_id = 64;\n                var nbb_unformatted_code = \"warehouses.to_csv(\\\"data_clean/warehouses.csv\\\")\";\n                var nbb_formatted_code = \"warehouses.to_csv(\\\"data_clean/warehouses.csv\\\")\";\n                var nbb_cells = Jupyter.notebook.get_cells();\n                for (var i = 0; i < nbb_cells.length; ++i) {\n                    if (nbb_cells[i].input_prompt_number == nbb_cell_id) {\n                        if (nbb_cells[i].get_text() == nbb_unformatted_code) {\n                             nbb_cells[i].set_text(nbb_formatted_code);\n                        }\n                        break;\n                    }\n                }\n            }, 500);\n            ",
      "text/plain": [
       "<IPython.core.display.Javascript object>"
      ]
     },
     "metadata": {},
     "output_type": "display_data"
    }
   ],
   "source": [
    "warehouses.to_csv(\"data_clean/warehouses.csv\")"
   ]
  },
  {
   "cell_type": "markdown",
   "metadata": {},
   "source": [
    "C'est pas une base de donnée très passionnante."
   ]
  }
 ],
 "metadata": {
  "interpreter": {
   "hash": "b0fa6594d8f4cbf19f97940f81e996739fb7646882a419484c72d19e05852a7e"
  },
  "kernelspec": {
   "display_name": "Python 3.9.7 64-bit",
   "language": "python",
   "name": "python3"
  },
  "language_info": {
   "codemirror_mode": {
    "name": "ipython",
    "version": 3
   },
   "file_extension": ".py",
   "mimetype": "text/x-python",
   "name": "python",
   "nbconvert_exporter": "python",
   "pygments_lexer": "ipython3",
   "version": "3.9.7"
  },
  "orig_nbformat": 4
 },
 "nbformat": 4,
 "nbformat_minor": 2
}
