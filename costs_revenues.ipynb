{
 "cells": [
  {
   "cell_type": "code",
   "execution_count": 1,
   "metadata": {},
   "outputs": [],
   "source": [
    "import numpy as np\n",
    "import matplotlib.pyplot as plt\n",
    "import matplotlib\n",
    "import pandas as pd\n",
    "import geopandas as gpd\n",
    "import contextily as cx\n",
    "import os\n",
    "import seaborn as sns\n",
    "import shapely as shp"
   ]
  },
  {
   "cell_type": "code",
   "execution_count": 2,
   "metadata": {},
   "outputs": [],
   "source": [
    "# Distance totale\n",
    "\n",
    "for csv_file in os.listdir(\"./data_clean\"):\n",
    "    if csv_file[-3:] == \"csv\":\n",
    "        globals()[csv_file[:-4]] = pd.read_csv(\"./data_clean/\" + csv_file)"
   ]
  },
  {
   "cell_type": "code",
   "execution_count": 14,
   "metadata": {},
   "outputs": [
    {
     "name": "stdout",
     "output_type": "stream",
     "text": [
      "Distance totale: 3063972 km\n"
     ]
    }
   ],
   "source": [
    "print(f\"Distance totale: {routes.total_distance.sum():.0f} km\")"
   ]
  },
  {
   "cell_type": "code",
   "execution_count": 7,
   "metadata": {},
   "outputs": [],
   "source": [
    "revenues = pd.merge(orders[[\"package_id\", \"n_units\"]], packages[[\"package_id\", \"package_revenues\"]], on=\"package_id\")"
   ]
  },
  {
   "cell_type": "code",
   "execution_count": 8,
   "metadata": {},
   "outputs": [
    {
     "data": {
      "text/html": [
       "<div>\n",
       "<style scoped>\n",
       "    .dataframe tbody tr th:only-of-type {\n",
       "        vertical-align: middle;\n",
       "    }\n",
       "\n",
       "    .dataframe tbody tr th {\n",
       "        vertical-align: top;\n",
       "    }\n",
       "\n",
       "    .dataframe thead th {\n",
       "        text-align: right;\n",
       "    }\n",
       "</style>\n",
       "<table border=\"1\" class=\"dataframe\">\n",
       "  <thead>\n",
       "    <tr style=\"text-align: right;\">\n",
       "      <th></th>\n",
       "      <th>package_id</th>\n",
       "      <th>n_units</th>\n",
       "      <th>package_revenues</th>\n",
       "    </tr>\n",
       "  </thead>\n",
       "  <tbody>\n",
       "    <tr>\n",
       "      <th>0</th>\n",
       "      <td>Z8722BWG8WfyrU3jeWsWGo</td>\n",
       "      <td>27.0</td>\n",
       "      <td>20.99</td>\n",
       "    </tr>\n",
       "    <tr>\n",
       "      <th>1</th>\n",
       "      <td>Z8722BWG8WfyrU3jeWsWGo</td>\n",
       "      <td>24.0</td>\n",
       "      <td>20.99</td>\n",
       "    </tr>\n",
       "    <tr>\n",
       "      <th>2</th>\n",
       "      <td>Z8722BWG8WfyrU3jeWsWGo</td>\n",
       "      <td>42.0</td>\n",
       "      <td>20.99</td>\n",
       "    </tr>\n",
       "    <tr>\n",
       "      <th>3</th>\n",
       "      <td>Z8722BWG8WfyrU3jeWsWGo</td>\n",
       "      <td>21.0</td>\n",
       "      <td>20.99</td>\n",
       "    </tr>\n",
       "    <tr>\n",
       "      <th>4</th>\n",
       "      <td>Z8722BWG8WfyrU3jeWsWGo</td>\n",
       "      <td>45.0</td>\n",
       "      <td>20.99</td>\n",
       "    </tr>\n",
       "    <tr>\n",
       "      <th>...</th>\n",
       "      <td>...</td>\n",
       "      <td>...</td>\n",
       "      <td>...</td>\n",
       "    </tr>\n",
       "    <tr>\n",
       "      <th>36126</th>\n",
       "      <td>9kzFiwvJT2e3V4Dq9KeLDD</td>\n",
       "      <td>10.0</td>\n",
       "      <td>20.99</td>\n",
       "    </tr>\n",
       "    <tr>\n",
       "      <th>36127</th>\n",
       "      <td>9kzFiwvJT2e3V4Dq9KeLDD</td>\n",
       "      <td>11.0</td>\n",
       "      <td>20.99</td>\n",
       "    </tr>\n",
       "    <tr>\n",
       "      <th>36128</th>\n",
       "      <td>9kzFiwvJT2e3V4Dq9KeLDD</td>\n",
       "      <td>5.0</td>\n",
       "      <td>20.99</td>\n",
       "    </tr>\n",
       "    <tr>\n",
       "      <th>36129</th>\n",
       "      <td>9kzFiwvJT2e3V4Dq9KeLDD</td>\n",
       "      <td>22.0</td>\n",
       "      <td>20.99</td>\n",
       "    </tr>\n",
       "    <tr>\n",
       "      <th>36130</th>\n",
       "      <td>9kzFiwvJT2e3V4Dq9KeLDD</td>\n",
       "      <td>23.0</td>\n",
       "      <td>20.99</td>\n",
       "    </tr>\n",
       "  </tbody>\n",
       "</table>\n",
       "<p>36131 rows × 3 columns</p>\n",
       "</div>"
      ],
      "text/plain": [
       "                   package_id  n_units  package_revenues\n",
       "0      Z8722BWG8WfyrU3jeWsWGo     27.0             20.99\n",
       "1      Z8722BWG8WfyrU3jeWsWGo     24.0             20.99\n",
       "2      Z8722BWG8WfyrU3jeWsWGo     42.0             20.99\n",
       "3      Z8722BWG8WfyrU3jeWsWGo     21.0             20.99\n",
       "4      Z8722BWG8WfyrU3jeWsWGo     45.0             20.99\n",
       "...                       ...      ...               ...\n",
       "36126  9kzFiwvJT2e3V4Dq9KeLDD     10.0             20.99\n",
       "36127  9kzFiwvJT2e3V4Dq9KeLDD     11.0             20.99\n",
       "36128  9kzFiwvJT2e3V4Dq9KeLDD      5.0             20.99\n",
       "36129  9kzFiwvJT2e3V4Dq9KeLDD     22.0             20.99\n",
       "36130  9kzFiwvJT2e3V4Dq9KeLDD     23.0             20.99\n",
       "\n",
       "[36131 rows x 3 columns]"
      ]
     },
     "execution_count": 8,
     "metadata": {},
     "output_type": "execute_result"
    }
   ],
   "source": [
    "revenues"
   ]
  },
  {
   "cell_type": "code",
   "execution_count": 9,
   "metadata": {},
   "outputs": [],
   "source": [
    "revenues[\"revenues\"] = revenues[\"package_revenues\"] * revenues[\"n_units\"]"
   ]
  },
  {
   "cell_type": "code",
   "execution_count": 11,
   "metadata": {},
   "outputs": [
    {
     "data": {
      "text/plain": [
       "<AxesSubplot:>"
      ]
     },
     "execution_count": 11,
     "metadata": {},
     "output_type": "execute_result"
    },
    {
     "data": {
      "image/png": "[encoded data removed]",
      "text/plain": [
       "<Figure size 432x288 with 1 Axes>"
      ]
     },
     "metadata": {
      "needs_background": "light"
     },
     "output_type": "display_data"
    }
   ],
   "source": [
    "revenues[\"revenues\"].hist()"
   ]
  },
  {
   "cell_type": "code",
   "execution_count": 16,
   "metadata": {},
   "outputs": [
    {
     "name": "stdout",
     "output_type": "stream",
     "text": [
      "Revenus totaux: 23548274€\n"
     ]
    }
   ],
   "source": [
    "print(f\"Revenus totaux: {revenues.revenues.sum():.0f}€\")"
   ]
  }
 ],
 "metadata": {
  "interpreter": {
   "hash": "b0fa6594d8f4cbf19f97940f81e996739fb7646882a419484c72d19e05852a7e"
  },
  "kernelspec": {
   "display_name": "Python 3.9.7 64-bit",
   "language": "python",
   "name": "python3"
  },
  "language_info": {
   "codemirror_mode": {
    "name": "ipython",
    "version": 3
   },
   "file_extension": ".py",
   "mimetype": "text/x-python",
   "name": "python",
   "nbconvert_exporter": "python",
   "pygments_lexer": "ipython3",
   "version": "3.9.7"
  },
  "orig_nbformat": 4
 },
 "nbformat": 4,
 "nbformat_minor": 2
}
